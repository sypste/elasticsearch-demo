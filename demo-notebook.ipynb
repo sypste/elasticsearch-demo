{
 "cells": [
  {
   "cell_type": "markdown",
   "metadata": {},
   "source": [
    "# Setup\n",
    "\n",
    "Before we start developing with Elasticsearch, let's make sure \n",
    "\n",
    "- we can connect to the cluster,\n",
    "- some data are already available,\n",
    "- and we are able to perform a query on the index"
   ]
  },
  {
   "cell_type": "code",
   "execution_count": 1,
   "metadata": {},
   "outputs": [],
   "source": [
    "from elasticsearch import Elasticsearch\n",
    "\n",
    "# Test Connection\n",
    "client = Elasticsearch(hosts=\"http://localhost:9200\",\n",
    "                       basic_auth=('elastic', 'changeme'))\n",
    "client.indices.put_settings(\n",
    "    settings={\n",
    "        \"index.number_of_replicas\": 0\n",
    "    })\n",
    "\n",
    "assert client.cluster.health()['status'] == 'green', 'Cluster not healthy'\n"
   ]
  },
  {
   "cell_type": "markdown",
   "metadata": {},
   "source": [
    "The connection should be established and the cluster health green - which means we're good to go!"
   ]
  },
  {
   "cell_type": "code",
   "execution_count": 2,
   "metadata": {},
   "outputs": [],
   "source": [
    "# Create an index\n",
    "\n",
    "assert client.indices.create(index='my-first-index')['acknowledged'], 'Index could not be created'\n",
    "assert client.indices.exists(index='my-first-index')"
   ]
  },
  {
   "cell_type": "code",
   "execution_count": 3,
   "metadata": {},
   "outputs": [],
   "source": [
    "# add a sample document\n",
    "\n",
    "client.index(index='my-first-index',id=23,document={\n",
    "    'summary': 'Michael Jeffrey Jordan (born February 17, 1963), also known by his initials MJ, is an American businessman and former professional basketball player. He played fifteen seasons in the National Basketball Association (NBA), winning six NBA championships with the Chicago Bulls. Jordan is the principal owner and chairman of the Charlotte Hornets of the NBA and of 23XI Racing in the NASCAR Cup Series. His biography on the official NBA website states: \"By acclamation, Michael Jordan is the greatest basketball player of all time.\" He was integral in popularizing the NBA around the world in the 1980s and 1990s, becoming a global cultural icon in the process.'\n",
    "})\n",
    "assert client.exists(index='my-first-index',id=23)"
   ]
  },
  {
   "cell_type": "markdown",
   "metadata": {},
   "source": [
    "Now we've created an index and indexed one document - not bad, but we're just getting started! Let's try to search our data."
   ]
  },
  {
   "cell_type": "code",
   "execution_count": 4,
   "metadata": {},
   "outputs": [
    {
     "data": {
      "text/plain": [
       "{'took': 2,\n",
       " 'timed_out': False,\n",
       " '_shards': {'total': 1, 'successful': 1, 'skipped': 0, 'failed': 0},\n",
       " 'hits': {'total': {'value': 0, 'relation': 'eq'},\n",
       "  'max_score': None,\n",
       "  'hits': []}}"
      ]
     },
     "execution_count": 4,
     "metadata": {},
     "output_type": "execute_result"
    }
   ],
   "source": [
    "# this should be easy\n",
    "\n",
    "client.search(index='my-first-index', query={\n",
    "    'match': {\n",
    "        'summary': 'Michael'\n",
    "    }},\n",
    "    highlight={'fields': {'summary': {}}}\n",
    ").body\n"
   ]
  },
  {
   "cell_type": "code",
   "execution_count": 5,
   "metadata": {},
   "outputs": [
    {
     "data": {
      "text/plain": [
       "{'took': 2,\n",
       " 'timed_out': False,\n",
       " '_shards': {'total': 2, 'successful': 2, 'skipped': 0, 'failed': 0},\n",
       " 'hits': {'total': {'value': 0, 'relation': 'eq'},\n",
       "  'max_score': None,\n",
       "  'hits': []}}"
      ]
     },
     "execution_count": 5,
     "metadata": {},
     "output_type": "execute_result"
    }
   ],
   "source": [
    "# maybe Elasticsearch has even more answers?\n",
    "\n",
    "client.search(query={\n",
    "    'match': {\n",
    "        'summary': 'GOAT'\n",
    "    }},\n",
    "    highlight={'fields': {'summary': {}}}\n",
    ").body\n"
   ]
  },
  {
   "cell_type": "markdown",
   "metadata": {},
   "source": [
    "## Growing the set\n",
    "\n",
    "We can already explore the search API with this minimal example, however, to make things more interesting, we should probably accumulate a bit more data. While setting up the cluster, some articles from Wikipedia were already ingested into the cluster."
   ]
  },
  {
   "cell_type": "code",
   "execution_count": 6,
   "metadata": {},
   "outputs": [
    {
     "data": {
      "text/plain": [
       "{'count': 1001,\n",
       " '_shards': {'total': 1, 'successful': 1, 'skipped': 0, 'failed': 0}}"
      ]
     },
     "execution_count": 6,
     "metadata": {},
     "output_type": "execute_result"
    }
   ],
   "source": [
    "# count the indexed documents\n",
    "\n",
    "client.count(index='logstash-articles').body"
   ]
  },
  {
   "cell_type": "markdown",
   "metadata": {},
   "source": [
    "Within the prepared index, around a thousand documents are stored - that's more than one, and most are a bit longer than one paragraph.\n",
    "\n",
    "When dealing with new data, it's usually a good idea to get a feel for the format of the data. Feel free to use the launched Kibana app to explore the dataset! (Running on port 5601.) Here, we're content with a quick look at the fields containing data:\n",
    "\n",
    "- content\n",
    "- links\n",
    "- summary\n",
    "- tags\n",
    "- title\n",
    "- url"
   ]
  },
  {
   "cell_type": "code",
   "execution_count": 7,
   "metadata": {},
   "outputs": [
    {
     "data": {
      "text/plain": [
       "{'logstash-articles': {'mappings': {'dynamic_templates': [{'message_field': {'path_match': 'message',\n",
       "      'match_mapping_type': 'string',\n",
       "      'mapping': {'norms': False, 'type': 'text'}}},\n",
       "    {'string_fields': {'match': '*',\n",
       "      'match_mapping_type': 'string',\n",
       "      'mapping': {'fields': {'keyword': {'ignore_above': 256,\n",
       "         'type': 'keyword'}},\n",
       "       'norms': False,\n",
       "       'type': 'text'}}}],\n",
       "   'properties': {'@timestamp': {'type': 'date'},\n",
       "    '@version': {'type': 'keyword'},\n",
       "    'content': {'type': 'text',\n",
       "     'fields': {'keyword': {'type': 'keyword', 'ignore_above': 256}},\n",
       "     'norms': False},\n",
       "    'geoip': {'dynamic': 'true',\n",
       "     'properties': {'ip': {'type': 'ip'},\n",
       "      'latitude': {'type': 'half_float'},\n",
       "      'location': {'type': 'geo_point'},\n",
       "      'longitude': {'type': 'half_float'}}},\n",
       "    'links': {'type': 'text',\n",
       "     'fields': {'keyword': {'type': 'keyword', 'ignore_above': 256}},\n",
       "     'norms': False},\n",
       "    'summary': {'type': 'text',\n",
       "     'fields': {'keyword': {'type': 'keyword', 'ignore_above': 256}},\n",
       "     'norms': False},\n",
       "    'tags': {'type': 'text',\n",
       "     'fields': {'keyword': {'type': 'keyword', 'ignore_above': 256}},\n",
       "     'norms': False},\n",
       "    'title': {'type': 'text',\n",
       "     'fields': {'keyword': {'type': 'keyword', 'ignore_above': 256}},\n",
       "     'norms': False},\n",
       "    'url': {'type': 'text',\n",
       "     'fields': {'keyword': {'type': 'keyword', 'ignore_above': 256}},\n",
       "     'norms': False}}}}}"
      ]
     },
     "execution_count": 7,
     "metadata": {},
     "output_type": "execute_result"
    }
   ],
   "source": [
    "# let's have a look at the mapping\n",
    "\n",
    "client.indices.get_mapping(index='logstash-articles').body"
   ]
  },
  {
   "cell_type": "markdown",
   "metadata": {},
   "source": [
    "And let's see how many results we get for the same query as above ..."
   ]
  },
  {
   "cell_type": "code",
   "execution_count": 8,
   "metadata": {},
   "outputs": [
    {
     "data": {
      "text/plain": [
       "{'took': 55,\n",
       " 'timed_out': False,\n",
       " '_shards': {'total': 1, 'successful': 1, 'skipped': 0, 'failed': 0},\n",
       " 'hits': {'total': {'value': 14, 'relation': 'eq'},\n",
       "  'max_score': 8.063337,\n",
       "  'hits': [{'_index': 'logstash-articles',\n",
       "    '_id': 'https://en.wikipedia.org/wiki/James_Dean_(2001_film)',\n",
       "    '_score': 8.063337,\n",
       "    '_ignored': ['content.keyword', 'summary.keyword'],\n",
       "    '_source': {'summary': \"James Dean is a 2001 American made-for-television biographical drama film based on the life of the American actor James Dean. James Franco plays the title role under the direction of Mark Rydell, who chronicles Dean's rise from a struggling actor to an A-list movie star in 1950s Hollywood. The film's supporting roles included Michael Moriarty, Valentina Cervi, Enrico Colantoni, and Edward Herrmann.\\nThe biopic began development at Warner Bros. in the early 1990s. At one point, Michael Mann was contracted to direct with Leonardo DiCaprio starring in the lead role. After Mann's departure, Des McAnuff, Dennis Hopper, and Milčo Mančevski were considered for the director's chair. Rydell was hired as director in 1996, but the film continued to languish in development hell.\\nWarner Bros. then decided to produce James Dean as a TV movie for Turner Network Television (TNT); both Warners and TNT are owned by Time Warner. Franco was cast as Dean in May 2000 after a search that resulted in 500 auditions. Franco researched his role to closely portray Dean. James Dean was shown on TNT in the United States on August 5, 2001, receiving generally positive reviews from critics and widespread acclaim for Franco's performance.\\n\\n\"},\n",
       "    'highlight': {'summary': [\"The film's supporting roles included <em>Michael</em> Moriarty, Valentina Cervi, Enrico Colantoni, and Edward\",\n",
       "      'At one point, <em>Michael</em> Mann was contracted to direct with Leonardo DiCaprio starring in the lead role.']}},\n",
       "   {'_index': 'logstash-articles',\n",
       "    '_id': 'https://en.wikipedia.org/wiki/Moi_Avei',\n",
       "    '_score': 8.063337,\n",
       "    '_ignored': ['content.keyword', 'summary.keyword'],\n",
       "    '_source': {'summary': \"Moi Avei KBE  (born 24 October 1946) is a Papua New Guinean politician. He was a member of the National Parliament of Papua New Guinea from 1992 to 2007, representing the Kairuku-Hiri electorate. He was Deputy Prime Minister of Papua New Guinea from 2004 to 2006 under Michael Somare.\\nAvei was born in Boera village in Kairuku-Hiri District, and was educated at Ipswich Grammar School and the University of Queensland in Australia, where he graduated with a Bachelor of Social Work. He was variously PNG's Director of Child Welfare, a political advisor (at various times to Michael Somare, Akoka Doi, and the opposition as a whole), a businessman and a consultant before entering politics. Aside from his stint as Deputy Prime Minister, Avei also served in a number of ministerial portfolios, including Higher Education, Science and Technology, National Planning, Bougainville Affairs and Petroleum and Energy. In 2006 he was suspended over misconduct allegations. He later went on to a business career, serving in a number of capacities including Chairman of Ok Tedi Mining Limited (since 2014) and director of Bougainville Copper (since 2016).Avei was appointed a Knight Commander of the Order of the British Empire (KBE) in the 2002 New Year Honours\"},\n",
       "    'highlight': {'summary': ['He was Deputy Prime Minister of Papua New Guinea from 2004 to 2006 under <em>Michael</em> Somare.',\n",
       "      \"He was variously PNG's Director of Child Welfare, a political advisor (at various times to <em>Michael</em> Somare\"]}},\n",
       "   {'_index': 'logstash-articles',\n",
       "    '_id': 'https://en.wikipedia.org/wiki/Michael_Jordan',\n",
       "    '_score': 8.063337,\n",
       "    '_ignored': ['content.keyword', 'summary.keyword'],\n",
       "    '_source': {'summary': 'Michael Jeffrey Jordan OLY (born February 17, 1963), also known by his initials MJ, is an American businessman and former professional basketball player. His biography on the official NBA website states: \"By acclamation, Michael Jordan is the greatest basketball player of all time.\" He played fifteen seasons in the National Basketball Association (NBA), winning six NBA championships with the Chicago Bulls. Jordan is the principal owner and chairman of the Charlotte Hornets of the NBA and of 23XI Racing in the NASCAR Cup Series. He was integral in popularizing the NBA around the world in the 1980s and 1990s, becoming a global cultural icon in the process.Jordan played college basketball for three seasons under coach Dean Smith with the North Carolina Tar Heels. As a freshman, he was a member of the Tar Heels\\' national championship team in 1982. Jordan joined the Bulls in 1984 as the third overall draft pick, and quickly emerged as a league star, entertaining crowds with his prolific scoring while gaining a reputation as one of the game\\'s best defensive players. His leaping ability, demonstrated by performing slam dunks from the free-throw line in Slam Dunk Contests, earned him the nicknames \"Air Jordan\" and \"His Airness\". Jordan won his first NBA title with the Bulls in 1991, and followed that achievement with titles in 1992 and 1993, securing a three-peat. Jordan abruptly retired from basketball before the 1993–94 NBA season to play Minor League Baseball but returned to the Bulls in March 1995 and led them to three more championships in 1996, 1997, and 1998, as well as a then-record 72 regular season wins in the 1995–96 NBA season. He retired for the second time in January 1999 but returned for two more NBA seasons from 2001 to 2003 as a member of the Washington Wizards.Jordan\\'s individual accolades and accomplishments include six NBA Finals Most Valuable Player (MVP) awards, ten NBA scoring titles (both all-time records), five NBA MVP awards, ten All-NBA First Team designations, nine All-Defensive First Team honors, fourteen NBA All-Star Game selections, three NBA All-Star Game MVP awards, three NBA steals titles, and the 1988 NBA Defensive Player of the Year Award. He holds the NBA records for career regular season scoring average (30.12 points per game) and career playoff scoring average (33.45 points per game). In 1999, he was named the 20th century\\'s greatest North American athlete by ESPN, and was second to Babe Ruth on the Associated Press\\' list of athletes of the century. Jordan was twice inducted into the Naismith Memorial Basketball Hall of Fame, once in 2009 for his individual career, and again in 2010 as part of the 1992 United States men\\'s Olympic basketball team (\"The Dream Team\"). He became a member of the United States Olympic Hall of Fame in 2009, a member of the North Carolina Sports Hall of Fame in 2010, and an individual member of the FIBA Hall of Fame in 2015 and a \"Dream Team\" member in 2017.One of the most effectively marketed athletes of his generation, Jordan is known for his product endorsements. He fueled the success of Nike\\'s Air Jordan sneakers, which were introduced in 1984 and remain popular today. Jordan also starred as himself in the 1996 live-action animation hybrid film Space Jam and is the central focus of the Emmy Award-winning documentary miniseries The Last Dance (2020). He became part-owner and head of basketball operations for the Charlotte Bobcats (now named the Hornets) in 2006, and bought a controlling interest in 2010. In 2016, Jordan became the first billionaire player in NBA history. As of 2022, his net worth is estimated at $1.7 billion.'},\n",
       "    'highlight': {'summary': ['<em>Michael</em> Jeffrey Jordan OLY (born February 17, 1963), also known by his initials MJ, is an American businessman',\n",
       "      'His biography on the official NBA website states: \"By acclamation, <em>Michael</em> Jordan is the greatest basketball']}},\n",
       "   {'_index': 'logstash-articles',\n",
       "    '_id': 'https://en.wikipedia.org/wiki/The_Liver_Birds',\n",
       "    '_score': 7.107542,\n",
       "    '_ignored': ['content.keyword', 'summary.keyword'],\n",
       "    '_source': {'summary': \"The Liver Birds is a British sitcom, set in Liverpool, North West England, which aired on BBC1 from April 1969 to January 1979, and again in 1996. The show was created by Carla Lane and Myra Taylor. The two Liverpudlian housewives had met at a local writers club and decided to pool their talents. Having been invited to London by Michael Mills, the BBC's then Head of Comedy, and asked to write about two women sharing a flat, Mills brought in sitcom expert Sydney Lotterby to work with the writing team.\\nLotterby had previously worked with Eric Sykes and Sheila Hancock, and on The Likely Lads. For the Liver Birds, Carla Lane wrote most of the episodes, Taylor co-writing only the first two series. The pilot was shown on 14 April 1969 as an episode of Comedy Playhouse, the BBC's breeding ground for sitcoms at the time.\"},\n",
       "    'highlight': {'summary': [\"Having been invited to London by <em>Michael</em> Mills, the BBC's then Head of Comedy, and asked to write about\"]}},\n",
       "   {'_index': 'logstash-articles',\n",
       "    '_id': 'https://en.wikipedia.org/wiki/Michael_Paul_Fleischer',\n",
       "    '_score': 7.107542,\n",
       "    '_ignored': ['content.keyword'],\n",
       "    '_source': {'summary': 'Michael Paul Fleischer is a United States businessman from the state of New Jersey.'},\n",
       "    'highlight': {'summary': ['<em>Michael</em> Paul Fleischer is a United States businessman from the state of New Jersey.']}},\n",
       "   {'_index': 'logstash-articles',\n",
       "    '_id': 'https://en.wikipedia.org/wiki/Arif_Mardin',\n",
       "    '_score': 7.107542,\n",
       "    '_ignored': ['content.keyword', 'summary.keyword'],\n",
       "    '_source': {'summary': \"Arif Mardin (March 15, 1932 – June 25, 2006) was a Turkish-American music producer, who worked with hundreds of artists across many different styles of music, including jazz, rock, soul, disco and country. He worked at Atlantic Records for over 30 years, as producer, arranger, studio manager, and vice president, before moving to EMI and serving as vice president and general manager of Manhattan Records. His collaborations include working with The Rascals, Queen, John Prine, the Bee Gees, Hall & Oates, Anita Baker, Aretha Franklin, Dionne Warwick, Donny Hathaway & Roberta Flack, Bette Midler, Michael Crawford, Chaka Khan, Laura Nyro, Ringo Starr, Carly Simon, Phil Collins, Daniel Rodriguez, Danny O'Keefe, and Norah Jones. Mardin was awarded eleven Grammy Awards.\"},\n",
       "    'highlight': {'summary': ['Oates, Anita Baker, Aretha Franklin, Dionne Warwick, Donny Hathaway & Roberta Flack, Bette Midler, <em>Michael</em>']}},\n",
       "   {'_index': 'logstash-articles',\n",
       "    '_id': 'https://en.wikipedia.org/wiki/Palitha_Silva',\n",
       "    '_score': 7.107542,\n",
       "    '_ignored': ['content.keyword', 'summary.keyword'],\n",
       "    '_source': {'summary': \"Garanduwa Baarage Palitha Silva (born August 30, 1967 as පාලිත සිල්වා) [Sinhala]) is a Sri Lankan actor, dramatist, producer, director, scriptwriter and author.  He started his career at 15 years of age when he was chosen to train at the esteemed Professor Solomon Fonseka's school of Acting. Silva has acted in more than 400 television serials and is best known for the roles in teledramas Keetaya, Deweni Inima and titular character in the biographical film Anagarika Dharmapala Srimathano. He was awarded the honorific titles of Maanava Hithavadee Keerthi Sri Veeraputra Deshabandu in (June, 2019) and Kalaashubana Janaranjana Keerthi Sri Deshamanya (July,2021)  for his service towards Buddhism in Sri Lanka. He was also cast in the international film Shadow of the Cobra Starring Art Malik, Michael Woods and Arthur Dignam.\"},\n",
       "    'highlight': {'summary': ['He was also cast in the international film Shadow of the Cobra Starring Art Malik, <em>Michael</em> Woods and']}},\n",
       "   {'_index': 'logstash-articles',\n",
       "    '_id': 'https://en.wikipedia.org/wiki/MTV_Africa_Music_Awards_2014',\n",
       "    '_score': 7.107542,\n",
       "    '_ignored': ['content.keyword', 'summary.keyword'],\n",
       "    '_source': {'summary': 'The MTV Africa Music Awards 2014 took place on 7 June 2014, at the Durban International Convention Centre (ICC Arena). The awards aired live across Africa on MTV Base and MTV. The ceremony was sponsored by KwaZulu-Natal Province, Absolut and the City of Durban. The show was hosted by American comedian and actor Marlon Wayans. The ceremony featured performances from artists such as  Miguel, Trey Songz, Flavour N\\'abania, French Montana, Tiwa Savage, Davido, Mafikizolo, Uhuru, Oskido, Professor, Diamond Platnumz,  Phyno, Yuri Da Cunha, Sauti Sol, Sarkodie, Ice Prince, The Arrows, Khuli Chana, Dr SID, Fally Ipupa, Michael Lowman, Don Jazzy, DJ Clock, Beatenberg, DJ Kent, Big Nuz, Toofan, D\\'Banj, DJ Vigi, DJ Tira, DJ Buckz, and Burna Boy. On 27 May 2014, the nominees for the MTV Base Leadership Award were announced. On 28 May, MTV Base revealed Drake, Beyoncé, Rihanna, Pharrell Williams, and Miley Cyrus as the nominees for the Best International Act category. Davido and Mafikizolo received the most nominations with four each. Mi Casa and P-Square received three nominations. Diamond Platnumz and Wizkid were nominated twice for both Best Male and Best Collaboration. \\nMarlon Wayans wore a bead-studded rickshaw, and was cheered on by the crowd. Throughout the event, he portrayed an American reporter who stereotyped African talent during staged interviews. Mafikizolo won two trophies and performed their song \"Khona\", alongside Flavour N\\'abania, Sauti Sol, and Fally Ipupa. Davido took home two awards for Artist of the Year and Best Male. Tiwa Savage toppled Efya, Chidinma, Arielle T, and DJ C’ndo for the Best Female award. Afro-soul songstress Simphiwe Dana paid tribute to the late Nelson Mandela by performing in front of a giant timelapse video artwork created by Transform Today nominee Rasty. The kidnapping of the Nigerian school girls was also addressed during the ceremony. Ladysmith Black Mambazo received great applause for performing \"Acappello\" and \"Y-tjukutja\". Lupita Nyong\\'o won the Personality of the Year award; a clip of her acceptance speech was aired during the ceremony. American musicians Miguel, French Montana, and Trey Songz performed their hit songs. Celebrity guests attending the event included Khloé Kardashian, D\\'Banj, Nomzamo Mbatha, Goldfish, DJ Fresh, John Vlismas, Kajal Bagwandeen, Emmanuel Adebayor, Wema Sepetu, Minnie Dlamini, Sizwe Dhlomo, Dorcas Shola Fapson, DJ C’ndo, Efya and Riaad Moosa.BET International premiered the show on June 12. The show was broadcast internationally in summer 2014.'},\n",
       "    'highlight': {'summary': ['Phyno, Yuri Da Cunha, Sauti Sol, Sarkodie, Ice Prince, The Arrows, Khuli Chana, Dr SID, Fally Ipupa, <em>Michael</em>']}},\n",
       "   {'_index': 'logstash-articles',\n",
       "    '_id': 'https://en.wikipedia.org/wiki/Rubberman_(film)',\n",
       "    '_score': 7.107542,\n",
       "    '_ignored': ['content.keyword'],\n",
       "    '_source': {'summary': 'Rubberman: Up, Up and Away is a 1996 Philippine comedy superhero film directed by Edgardo Vinarao. The film stars Michael V. as the title role. It was one of the entries in the 1996 Metro Manila Film Festival.'},\n",
       "    'highlight': {'summary': ['The film stars <em>Michael</em> V. as the title role.']}},\n",
       "   {'_index': 'logstash-articles',\n",
       "    '_id': 'https://en.wikipedia.org/wiki/Yellow_Cab_Company',\n",
       "    '_score': 7.107542,\n",
       "    '_ignored': ['content.keyword', 'summary.keyword'],\n",
       "    '_source': {'summary': \"The Yellow Cab Company was a taxicab company in Chicago which was founded in 1907 by John D. Hertz.In 1920 the Yellow Cab Manufacturing Company was formed to manufacture taxicabs.\\nDuring the 1910s and 1920s the company was involved in considerable illegal activity relating to mobsters and in particular to the Chicago Outfit. Yellow Cab was involved in a bitter rivalry with Checker Taxi at the time which led to a number of shootings, deaths, and firebombings.By 1925 the company was a subsidiary of the Chicago Yellow Cab Company, a public holding company with shares equally divided between Hertz, Parmelee, and a small group of other investors. Hertz sold the Yellow Cab Manufacturing Company to General Motors in 1925.He sold his remaining interest in the Yellow Cab Company in 1929 to Morris Markin, who had established Checker Cab Manufacturing Company as a driver cooperative with the Checker Taxi. Hertz had decided to focus on car rentals (later Hertz Rent-a-Car which incidentally still uses a yellow logo). The sale was also prompted by the violence associated with the business that culminated in 1928 in his racing stables being destroyed in a $200,000 fire in which 11 thoroughbred horses were burned.From 1930 till 1982 Yellow Cab of Chicago sourced all of their operating taxicab fleet from Markin's Checker Motors Corp. of Kalamazoo, Michigan.  Holding a near monopoly of taxicab operations in Chicago, the majority of Chicago taxicabs were largely purpose built Checker Cabs spanning three generations.\\nYellow Cab Co. was sold again in 1996 to Patton Corrigan, who in turn sold controlling interest in 2005 to Michael Levine, a third-generation taxicab operator from New York City. The Levine/Corrigan group has also purchased the Checker Taxi Affiliation in Chicago, to reunite the two companies once again. In 2015, Yellow Cab of Chicago filed for bankruptcy. Yellow Cab Co eventually split into multiple companies across the nation bearing the Yellow Cab name. In January 2016, San Francisco's Yellow Cab cooperative filed for bankruptcy protection.\\n\\n\"},\n",
       "    'highlight': {'summary': ['Cab Co. was sold again in 1996 to Patton Corrigan, who in turn sold controlling interest in 2005 to <em>Michael</em>']}}]}}"
      ]
     },
     "execution_count": 8,
     "metadata": {},
     "output_type": "execute_result"
    }
   ],
   "source": [
    "# Michael appears to be a fairly common name!\n",
    "\n",
    "client.search(index='logstash-articles', query={\n",
    "    'match': {\n",
    "        'summary': 'michael'\n",
    "    }}, \n",
    "    highlight={'fields': {'summary': {}}},\n",
    "    source=['summary'],\n",
    ").body\n"
   ]
  },
  {
   "cell_type": "markdown",
   "metadata": {},
   "source": [
    "Elasticsearch indexes data using an [inverted index](https://en.wikipedia.org/wiki/Inverted_index), allowing fast searches across massive textual datasets. By default, texts / strings are indexed as type [`text`](https://www.elastic.co/guide/en/elasticsearch/reference/current/text.html) as well as [`keyword`](https://www.elastic.co/guide/en/elasticsearch/reference/current/keyword.html). So far, we have been searching on fields of type `text`, using the default [standard analyzer](https://www.elastic.co/guide/en/elasticsearch/reference/current/analysis-standard-analyzer.html), that tokenizes text and works well in most generic use cases. However, it has limitations once typos, a google-like search-as-you-type feel or domain-specific normalization come into play."
   ]
  },
  {
   "cell_type": "code",
   "execution_count": 19,
   "metadata": {},
   "outputs": [
    {
     "data": {
      "text/plain": [
       "{'took': 1,\n",
       " 'timed_out': False,\n",
       " '_shards': {'total': 1, 'successful': 1, 'skipped': 0, 'failed': 0},\n",
       " 'hits': {'total': {'value': 0, 'relation': 'eq'},\n",
       "  'max_score': None,\n",
       "  'hits': []}}"
      ]
     },
     "execution_count": 19,
     "metadata": {},
     "output_type": "execute_result"
    }
   ],
   "source": [
    "# a fairly standard typo yields no results\n",
    "\n",
    "client.search(index='logstash-articles', query={\n",
    "    'match': {\n",
    "        'summary': 'micheal'\n",
    "    }},\n",
    "    highlight={'fields': {'summary': {}}},\n",
    "    source=['summary'],\n",
    ").body"
   ]
  },
  {
   "cell_type": "markdown",
   "metadata": {},
   "source": [
    "# Analytical features\n",
    "\n",
    "To address such use cases, Elasticsearch offers an array of instruments that can be used individually or in conjunction to match feature requests and improve the accuraccy of search results. We will explore a couple of features next."
   ]
  },
  {
   "cell_type": "markdown",
   "metadata": {},
   "source": [
    "## Ngrams\n",
    "\n",
    "Ngrams are a well-known concept in linguistics and Natural Language Processing (NLP). The idea is to split single words into a number of letter tokens with a maximum defined length, e.g. 3. A word, such as _length_ would then be split into tokens with a maximum length of three.\n",
    "\n",
    "Let's examine the ngrams yielded by [the default tokenizer](https://www.elastic.co/guide/en/elasticsearch/reference/current/analysis-ngram-tokenizer.html)."
   ]
  },
  {
   "cell_type": "code",
   "execution_count": 20,
   "metadata": {},
   "outputs": [
    {
     "data": {
      "text/plain": [
       "['l', 'le', 'e', 'en', 'n', 'ng', 'g', 'gt', 't', 'th', 'h', 'hy', 'y']"
      ]
     },
     "execution_count": 20,
     "metadata": {},
     "output_type": "execute_result"
    }
   ],
   "source": [
    "[t['token'] for t in client.indices.analyze(\n",
    "    text='lengthy',\n",
    "    tokenizer='ngram'\n",
    ").body['tokens']]"
   ]
  },
  {
   "cell_type": "markdown",
   "metadata": {},
   "source": [
    "As we see, the word `lengthy` is split into tokens with a minimum size of 1 and a maximum size of 2. Let's add a field to our index that uses ngrams!"
   ]
  },
  {
   "cell_type": "code",
   "execution_count": 21,
   "metadata": {},
   "outputs": [],
   "source": [
    "# first, we need to define an analyzer that uses the ngram tokenizer\n",
    "assert client.indices.close(index='logstash-articles').body['acknowledged'], 'Technical error' # technically, we need to close the index temporarily - don't do this on a live system unless you know no new data will be added while index is closed\n",
    "\n",
    "client.indices.put_settings(\n",
    "    index='logstash-articles',\n",
    "    settings={\n",
    "        'analysis': {\n",
    "            'analyzer': {\n",
    "                'ngram_analyzer': {\n",
    "                    'tokenizer': 'ngram_tokenizer'\n",
    "                }\n",
    "            },\n",
    "            'tokenizer': {\n",
    "                'ngram_tokenizer': {\n",
    "                    'type': 'ngram',\n",
    "                    'min_gram': 2,\n",
    "                    'max_gram': 3,\n",
    "                    'token_chars': [\n",
    "                        'letter',\n",
    "                        'digit'\n",
    "                    ]\n",
    "                }\n",
    "            }\n",
    "        }\n",
    "    }\n",
    ")\n",
    "assert client.indices.open(index='logstash-articles').body['acknowledged'], 'Technical error' # reopen index"
   ]
  },
  {
   "cell_type": "code",
   "execution_count": 22,
   "metadata": {},
   "outputs": [
    {
     "data": {
      "text/plain": [
       "['le', 'len', 'en', 'eng', 'ng', 'ngt', 'gt', 'gth', 'th', 'thy', 'hy']"
      ]
     },
     "execution_count": 22,
     "metadata": {},
     "output_type": "execute_result"
    }
   ],
   "source": [
    "# test the analyzer\n",
    "[t['token'] for t in client.indices.analyze(\n",
    "    index='logstash-articles',\n",
    "    text='lengthy',\n",
    "    analyzer='ngram_analyzer'\n",
    ").body['tokens']]"
   ]
  },
  {
   "cell_type": "code",
   "execution_count": 23,
   "metadata": {},
   "outputs": [
    {
     "data": {
      "text/plain": [
       "['le', 'len', 'en', 'eng', 'ng', 'ngt', 'gt', 'gth', 'th', 'thy', 'hy']"
      ]
     },
     "execution_count": 23,
     "metadata": {},
     "output_type": "execute_result"
    }
   ],
   "source": [
    "# test the tokenizer\n",
    "[t['token'] for t in client.indices.analyze(\n",
    "    index='logstash-articles',\n",
    "    text='lengthy',\n",
    "    tokenizer='ngram_tokenizer'\n",
    ").body['tokens']]"
   ]
  },
  {
   "cell_type": "code",
   "execution_count": 24,
   "metadata": {},
   "outputs": [],
   "source": [
    "# and define a field that uses the analyzer\n",
    "\n",
    "assert client.indices.put_mapping(\n",
    "    index='logstash-articles',\n",
    "    properties={\n",
    "        'title': {\n",
    "            'type': 'text',\n",
    "            'norms': 'false',\n",
    "            'fields': {\n",
    "                'ngram': {\n",
    "                    'type': 'text',\n",
    "                    'analyzer': 'ngram_analyzer'\n",
    "                }\n",
    "            }\n",
    "        },\n",
    "        'summary': {\n",
    "            'type': 'text',\n",
    "            'norms': 'false',\n",
    "            'fields': {\n",
    "                'ngram': {\n",
    "                    'type': 'text',\n",
    "                    'analyzer': 'ngram_analyzer'\n",
    "                }\n",
    "            }\n",
    "        },\n",
    "        'content': {\n",
    "            'type': 'text',\n",
    "            'norms': 'false',\n",
    "            'fields': {\n",
    "                'ngram': {\n",
    "                    'type': 'text',\n",
    "                    'analyzer': 'ngram_analyzer'\n",
    "                }\n",
    "            }\n",
    "        }\n",
    "    }\n",
    ").body['acknowledged'], 'Technical error'\n",
    "\n",
    "assert client.update_by_query(index='logstash-articles').body['updated'] == 1001, 'Technical error' # refresh index"
   ]
  },
  {
   "cell_type": "code",
   "execution_count": 25,
   "metadata": {},
   "outputs": [
    {
     "data": {
      "text/plain": [
       "{'took': 34,\n",
       " 'timed_out': False,\n",
       " '_shards': {'total': 1, 'successful': 1, 'skipped': 0, 'failed': 0},\n",
       " 'hits': {'total': {'value': 992, 'relation': 'eq'},\n",
       "  'max_score': 15.79492,\n",
       "  'hits': [{'_index': 'logstash-articles',\n",
       "    '_id': 'https://en.wikipedia.org/wiki/Gabriel_Filippelli',\n",
       "    '_score': 15.79492,\n",
       "    '_ignored': ['content.keyword', 'summary.keyword'],\n",
       "    '_source': {'summary': 'Gabriel Filippelli is an American biogeochemist and professor of Earth sciences at Indiana University-Purdue University Indianapolis (IUPUI). His research interests include biogeochemical cycling in the environment, and the links between environmental processes and human health.'},\n",
       "    'highlight': {'summary.ngram': ['Gabriel Filippelli is an Amer<em>ic</em>an biogeo<em>che</em><em>mi</em>st and professor of Earth sciences at Indiana University-Purdue',\n",
       "      'His res<em>ea</em>r<em>ch</em> interests include biogeo<em>che</em><em>mic</em><em>al</em> cycling in t<em>he</em> environment, and t<em>he</em> links between environment<em>al</em>',\n",
       "      'processes and human <em>heal</em>th.']}},\n",
       "   {'_index': 'logstash-articles',\n",
       "    '_id': 'https://en.wikipedia.org/wiki/Ilam_University_of_Medical_Sciences',\n",
       "    '_score': 15.042422,\n",
       "    '_ignored': ['content.keyword', 'summary.keyword'],\n",
       "    '_source': {'summary': 'The Ilam University of Medical Sciences is a university in Ilam, Iran. It was established in 1986. IUMS is the official medical university of the Ilam province which is associated with the Iranian Ministry of Health and Medical Education.  IUMS provides healthcare and treatment services to the community. IUMS with seven vice-chancellors, five faculties, 11 hospitals, and 63 healthcare centers tries to accomplish its research, education, and healthcare missions. This university welcomes qualified students and researchers to educate and investigate a wide range of medical fields, including medicine, pharmacology, allied medical sciences, dentistry, health sciences, nursing, and midwifery. The education schedule is semester-based.'},\n",
       "    'highlight': {'summary.ngram': ['IUMS is t<em>he</em> off<em>ic</em>i<em>al</em> med<em>ic</em><em>al</em> university of t<em>he</em> Ilam province wh<em>ich</em> is associated with t<em>he</em> Iranian Ministry',\n",
       "      'IUMS provides <em>heal</em>thcare and tr<em>ea</em>tment serv<em>ic</em>es to t<em>he</em> community.',\n",
       "      'IUMS with seven v<em>ic</em>e-<em>ch</em>ancellors, five faculties, 11 hospit<em>al</em>s, and 63 <em>heal</em>thcare centers tries to accomplish',\n",
       "      'its res<em>ea</em>r<em>ch</em>, education, and <em>heal</em>thcare <em>mi</em>ssions.',\n",
       "      'med<em>ic</em><em>al</em> fields, including med<em>ic</em>ine, pharmacology, <em>al</em>lied med<em>ic</em><em>al</em> sciences, dentistry, <em>heal</em>th sciences']}},\n",
       "   {'_index': 'logstash-articles',\n",
       "    '_id': 'https://en.wikipedia.org/wiki/Electrotherapy_(cosmetic)',\n",
       "    '_score': 13.214923,\n",
       "    '_ignored': ['content.keyword', 'summary.keyword'],\n",
       "    '_source': {'summary': 'Cosmetic electrotherapy is a range of beauty treatments that uses low electric currents passed through the skin to produce several therapeutic effects such as muscle toning in the body:\\u200a226\\u200a and micro-lifting of the face. It is based on electrotherapy, which has been researched and accepted in the field of rehabilitation, though the \"scientific and medical communities have tended to sideline or dismiss the use of electrotherapy for healthy muscles\".The use of electricity in cosmetics goes back to the end of the 19th century, almost a hundred years after Luigi Galvani discovered that electricity can make the muscle in a frog\\'s leg twitch (see galvanism). Subsequent research in electrophysiology has been carried out by people such as Robert O. Becker, Dr Björn Nordenström, a former chair of the Nobel Selection Committee for Medicine, and Dr Thomas Wing, who invented some of the first micro-current devices.'},\n",
       "    'highlight': {'summary.ngram': ['t<em>he</em> skin to produce sever<em>al</em> t<em>he</em>rapeut<em>ic</em> effects su<em>ch</em> as muscle toning in t<em>he</em> body:\\u200a226\\u200a and <em>mic</em>ro-lifting',\n",
       "      'It is based on electrot<em>he</em>rapy, wh<em>ich</em> has been res<em>ea</em>r<em>che</em>d and accepted in t<em>he</em> field of rehabilitation,',\n",
       "      'though t<em>he</em> \"scientif<em>ic</em> and med<em>ic</em><em>al</em> communities have tended to sideline or dis<em>mi</em>ss t<em>he</em> use of electrot<em>he</em>rapy',\n",
       "      'for <em>heal</em>thy muscles\".T<em>he</em> use of electr<em>ic</em>ity in cosmet<em>ic</em>s goes back to t<em>he</em> end of t<em>he</em> 19th century, <em>al</em>most',\n",
       "      'Wing, who invented some of t<em>he</em> first <em>mic</em>ro-current dev<em>ic</em>es.']}},\n",
       "   {'_index': 'logstash-articles',\n",
       "    '_id': 'https://en.wikipedia.org/wiki/Federal_Ministry_of_Health_(Germany)',\n",
       "    '_score': 11.635737,\n",
       "    '_ignored': ['content.keyword', 'summary.keyword'],\n",
       "    '_source': {'summary': \"The Federal Ministry of Health (German: Bundesministerium für Gesundheit), abbreviated BMG, is a cabinet-level ministry of the Federal Republic of Germany. It is the highest German federal government department responsible for health. The ministry is officially located in Bonn and with a second office, which houses the ministry's management, location in Berlin.\"},\n",
       "    'highlight': {'summary.ngram': ['T<em>he</em> Feder<em>al</em> Ministry of H<em>eal</em>th (German: Bundes<em>mi</em>nisterium für Gesund<em>he</em>it), abbreviated BMG, is a cabinet-level',\n",
       "      '<em>mi</em>nistry of t<em>he</em> Feder<em>al</em> Republ<em>ic</em> of Germany.',\n",
       "      'It is t<em>he</em> hig<em>he</em>st German feder<em>al</em> government department responsible for <em>heal</em>th.',\n",
       "      \"T<em>he</em> <em>mi</em>nistry is off<em>ic</em>i<em>al</em>ly located in Bonn and with a second off<em>ic</em>e, wh<em>ich</em> houses t<em>he</em> <em>mi</em>nistry's management\"]}},\n",
       "   {'_index': 'logstash-articles',\n",
       "    '_id': 'https://en.wikipedia.org/wiki/Lemont_Kier',\n",
       "    '_score': 11.572671,\n",
       "    '_ignored': ['content.keyword', 'summary.keyword'],\n",
       "    '_source': {'summary': 'Lemont Kier (born September 13, 1930) is an American chemist and researcher in the field of drug design and medicinal chemistry. He is the recipient of the American Association of Pharmaceutical Scientists 2008 Research Achievement Award in Drug Development and Discovery. He obtained his PhD in Medicinal Chemistry at the University of Minnesota in 1958 and is currently a Professor Emeritus of Medicinal Chemistry and Nurse Anesthesia at the Virginia Commonwealth University in Richmond, Virginia. Kier participated in the founding of the Center for the Study of Biological Complexity at Virginia Commonwealth University.'},\n",
       "    'highlight': {'summary.ngram': ['Lemont Kier (born September 13, 1930) is an Amer<em>ic</em>an <em>che</em><em>mi</em>st and res<em>ea</em>r<em>che</em>r in t<em>he</em> field of drug design',\n",
       "      'and med<em>ic</em>in<em>al</em> <em>che</em><em>mi</em>stry.',\n",
       "      'Professor Emeritus of Med<em>ic</em>in<em>al</em> C<em>he</em><em>mi</em>stry and Nurse Anest<em>he</em>sia at t<em>he</em> Virginia Commonw<em>eal</em>th University',\n",
       "      'in R<em>ich</em>mond, Virginia.',\n",
       "      'Kier part<em>ic</em>ipated in t<em>he</em> founding of t<em>he</em> Center for t<em>he</em> Study of Biolog<em>ic</em><em>al</em> Complexity at Virginia Commonw<em>eal</em>th']}},\n",
       "   {'_index': 'logstash-articles',\n",
       "    '_id': 'https://en.wikipedia.org/wiki/History_of_New_Plymouth',\n",
       "    '_score': 10.166893,\n",
       "    '_ignored': ['content.keyword', 'summary.keyword'],\n",
       "    '_source': {'summary': \"The city of New Plymouth, New Zealand, has a history that includes a lengthy occupation and residence by Maori, the arrival of white traders and settlers in the 19th century and warfare that resulted when the demands of the two cultures clashed.\\nEuropean settlement began in the early 1840s at a time when many original Maori inhabitants were absent, either because they had been taken captive by northern Maori warriors or had migrated south to avoid war. The rapid growth of the colonist population, coupled with insatiable demands for land by the New Zealand Company and the dubious practices it employed in purchasing it, created friction with local Maori, leading to a war in the 1860s. New Plymouth became a fortified garrison town and its residents suffered hunger and disease. Farming was impeded and immigration and trade came to a halt.In the aftermath of the war, as improved road and rail links with other towns resulted in a rapid growth of population and economic stability, the town became a major exporting port for dairy produce from the Taranaki district and the administrative centre for Taranaki's petro-chemical industry.\"},\n",
       "    'highlight': {'summary.ngram': ['T<em>he</em> city of New Plymouth, New Z<em>eal</em>and, has a history that includes a lengthy occupation and residence',\n",
       "      'T<em>he</em> rapid growth of t<em>he</em> colonist population, coupled with insatiable demands for land by t<em>he</em> New Z<em>eal</em>and',\n",
       "      'Company and t<em>he</em> dubious pract<em>ic</em>es it employed in pur<em>ch</em>asing it, cr<em>ea</em>ted fr<em>ic</em>tion with loc<em>al</em> Maori, l<em>ea</em>ding',\n",
       "      'road and rail links with ot<em>he</em>r towns resulted in a rapid growth of population and econo<em>mic</em> stability',\n",
       "      \"centre for Taranaki's petro-<em>che</em><em>mic</em><em>al</em> industry.\"]}},\n",
       "   {'_index': 'logstash-articles',\n",
       "    '_id': 'https://en.wikipedia.org/wiki/Petroscirtes_fallax',\n",
       "    '_score': 10.10963,\n",
       "    '_ignored': ['content.keyword', 'summary.keyword'],\n",
       "    '_source': {'summary': 'Petroscirtes fallax, the deceiver fangbelly or yellow saberetooth blenny, is a species of combtooth blenny found in coral reefs in the western Pacific ocean.  This species reaches a length of 9.5 centimetres (3.7 in) TL. This is a small species of blenny with a body which is yellow to whitish in colour and is marked with three longitudinal black stripes. The more ventral stripe extending onto the base of the pectoral fin although not to the base of the anal fin. This species is thought to be a possible Batesian mimic of the Lined Fangblenny, Meiacanthus lineatus, which has a pair of venomous canine-like teeth in its lower jaw.'},\n",
       "    'highlight': {'summary.ngram': ['found in cor<em>al</em> reefs in t<em>he</em> western Pacif<em>ic</em> oc<em>ea</em>n.',\n",
       "      'This species r<em>ea</em><em>che</em>s a length of 9.5 centimetres (3.7 in) TL.',\n",
       "      'This is a sm<em>al</em>l species of blenny with a body wh<em>ich</em> is yellow to whitish in colour and is marked with',\n",
       "      'This species is thought to be a possible Batesian <em>mi</em><em>mic</em> of t<em>he</em> Lined Fangblenny, Meiacanthus lin<em>ea</em>tus',\n",
       "      ', wh<em>ich</em> has a pair of venomous canine-like teeth in its lower jaw.']}},\n",
       "   {'_index': 'logstash-articles',\n",
       "    '_id': 'https://en.wikipedia.org/wiki/Roman_Frigg',\n",
       "    '_score': 10.064917,\n",
       "    '_ignored': ['content.keyword', 'summary.keyword'],\n",
       "    '_source': {'summary': 'Roman Frigg (born 1972) is a Swiss philosopher, Professor at the London School of Economics and Political Science and director of its Centre for Philosophy of Natural and Social Science. In 2016 he was awarded the Friedrich Wilhelm Bessel Research Award.Born in Basel, Switzerland, Frigg obtained his MSc in Theoretical Physics at the University of Basel. In 2003 he obtained his PhD in Philosophy at the London School of Economics and Political Science under Nancy Cartwright and Carl Hoefer with the thesis entitled Re-presenting Scientific Representation.After graduation Frigg started his academic career at the London School of Economics. After some years he was appointed Professor of Philosophy in its Department of Philosophy, Logic and Scientific Method. He is also visiting professor at the Ludwig Maximilian University of Munich at its Munich Centre for Mathematical Philosophy.'},\n",
       "    'highlight': {'summary.ngram': ['Roman Frigg (born 1972) is a Swiss philosop<em>he</em>r, Professor at t<em>he</em> London S<em>ch</em>ool of Econo<em>mic</em>s and Polit<em>ic</em><em>al</em>',\n",
       "      'In 2016 <em>he</em> was awarded t<em>he</em> Friedr<em>ich</em> Wil<em>he</em>lm Bessel Res<em>ea</em>r<em>ch</em> Award.Born in Basel, Switzerland, Frigg',\n",
       "      'In 2003 <em>he</em> obtained his PhD in Philosophy at t<em>he</em> London S<em>ch</em>ool of Econo<em>mic</em>s and Polit<em>ic</em><em>al</em> Science under',\n",
       "      'graduation Frigg started his acade<em>mic</em> career at t<em>he</em> London S<em>ch</em>ool of Econo<em>mic</em>s.',\n",
       "      'He is <em>al</em>so visiting professor at t<em>he</em> Ludwig Maxi<em>mi</em>lian University of Mun<em>ich</em> at its Mun<em>ich</em> Centre for']}},\n",
       "   {'_index': 'logstash-articles',\n",
       "    '_id': 'https://en.wikipedia.org/wiki/Great_Ballard_School',\n",
       "    '_score': 10.006925,\n",
       "    '_ignored': ['content.keyword'],\n",
       "    '_source': {'summary': 'Great Ballard School is a co-educational independent school for children aged 2½ to 16 years. It was founded in 1924 and set up at its current location in Eartham, near Chichester, West Sussex, England, in 1961.  The headmaster is Matthew King.\\n\\n'},\n",
       "    'highlight': {'summary.ngram': ['Gr<em>ea</em>t B<em>al</em>lard S<em>ch</em>ool is a co-education<em>al</em> independent s<em>ch</em>ool for <em>ch</em>ildren aged 2½ to 16 y<em>ea</em>rs.',\n",
       "      'It was founded in 1924 and set up at its current location in Eartham, n<em>ea</em>r Ch<em>iche</em>ster, West Sussex, England',\n",
       "      'T<em>he</em> <em>hea</em>dmaster is Matt<em>he</em>w King.']}},\n",
       "   {'_index': 'logstash-articles',\n",
       "    '_id': 'https://en.wikipedia.org/wiki/Darbas',\n",
       "    '_score': 9.954947,\n",
       "    '_ignored': ['content.keyword', 'summary.keyword'],\n",
       "    '_source': {'summary': \"Darbas (Armenian: Դարբաս) is a village in the Sisian Municipality of the Syunik Province in Armenia. Saint Stephen's Church of Darbas was opened in 2010. The school and health clinic in Darbas are the largest and most resourced in the Darbas valley. There are primary schools and basic health clinics in both Darbas and the nearby village of Shamb.\"},\n",
       "    'highlight': {'summary.ngram': ['Darbas (Armenian: Դարբաս) is a village in t<em>he</em> Sisian Mun<em>ic</em>ip<em>al</em>ity of t<em>he</em> Syunik Province in Armenia.',\n",
       "      \"Saint Step<em>he</em>n's Chur<em>ch</em> of Darbas was opened in 2010.\",\n",
       "      'T<em>he</em> s<em>ch</em>ool and <em>heal</em>th clin<em>ic</em> in Darbas are t<em>he</em> largest and most resourced in t<em>he</em> Darbas v<em>al</em>ley.',\n",
       "      'T<em>he</em>re are primary s<em>ch</em>ools and bas<em>ic</em> <em>heal</em>th clin<em>ic</em>s in both Darbas and t<em>he</em> n<em>ea</em>rby village of Shamb.']}}]}}"
      ]
     },
     "execution_count": 25,
     "metadata": {},
     "output_type": "execute_result"
    }
   ],
   "source": [
    "# now we should be able to find something despite the type\n",
    "\n",
    "client.search(index='logstash-articles', query={\n",
    "    'match': {\n",
    "        'summary.ngram': 'micheal'\n",
    "    }},\n",
    "    highlight={'fields': {'summary.ngram': {}}},\n",
    "    source=['summary'],\n",
    ").body"
   ]
  },
  {
   "cell_type": "markdown",
   "metadata": {},
   "source": [
    "However, results the results are certainly not yet what we want. Remember, the `ngram` tokenizer does nothing different than split words into tokens, so we should not be surprised that results appear a bit random. After all, let's have a look at the ngrams derived from _Micheal_:\n",
    "\n",
    "    ['mi', 'mic', 'ic', 'ich', 'ch', 'che', 'he', 'hea', 'ea', 'eal', 'al']\n",
    "\n",
    "Though some ngrams would also appear in the tokenization of _Michael_, there is nothing special about them - Elasticsearch will simply match with the documents that contain the tokens most often. In general, it takes a little testing and trial-and-error to find the best minimum and maximum values for ngram length (the longer, the more specific the matches, but less error-tolerant). Let's dig deeper."
   ]
  },
  {
   "cell_type": "markdown",
   "metadata": {},
   "source": [
    "## Search-as-you-type\n",
    "\n",
    "The [search-as-you-type functionality](https://www.elastic.co/guide/en/elasticsearch/reference/current/search-as-you-type.html) utilizes ngrams in a slighty different way compared to what we have done so far. Instead of looking at the entire word for tokenization, the focus is on the beginning of the words to offer a fast search functionality that offers results as a user is typing the first few letters."
   ]
  },
  {
   "cell_type": "code",
   "execution_count": 26,
   "metadata": {},
   "outputs": [],
   "source": [
    "assert client.indices.put_mapping(\n",
    "    index='logstash-articles',\n",
    "    properties={\n",
    "        'title': {\n",
    "            'type': 'text',\n",
    "            'norms': 'false',\n",
    "            'fields': {\n",
    "                'search_as_you_type': {\n",
    "                    'type': 'search_as_you_type'\n",
    "                }\n",
    "            }\n",
    "        }\n",
    "    }\n",
    ").body['acknowledged'], 'Technical error'\n",
    "\n",
    "assert client.update_by_query(index='logstash-articles').body['updated'] == 1001, 'Technical error' # refresh index"
   ]
  },
  {
   "cell_type": "code",
   "execution_count": 27,
   "metadata": {},
   "outputs": [
    {
     "name": "stdout",
     "output_type": "stream",
     "text": [
      "Input mi yields a total 33 results with titles ['1974 United States Senate election in Missouri', '103 Mile Lake', 'Peter Milliman', 'Micropterix lambesiella', 'Middle nasal concha', 'Middletown, Indiana', 'Diving at the 2018 European Aquatics Championships – Mixed 3 m springboard synchro', 'Spring Fork, Missouri', '1968–69 Midland Football League', '1922 Minneapolis Marines season', 'Federico Millacet', 'Federal Ministry of Health (Germany)', 'Grand Haven, Michigan', 'Smock mill, Wolin', 'Kendriya Vidyalaya 9th Mile', '246th Mixed Brigade', 'Micellar solubilization', 'Michael Jordan', 'Mike Gallagher (political commentator)', 'Stephen V. R. Trowbridge (Michigan legislator)', 'The Dazzling Miss Davison', 'Ministry Trax! Box', 'Highway 25 Bridge (Minnesota)', 'Michael Paul Fleischer', 'Mikhail Makagonov', 'Mildred Ratcliffe', 'Jefferson County School District (Mississippi)', 'Michiyoshi', 'Midnattsrocken', 'Miguel Tavares (footballer)', 'Palfrey, West Midlands', 'John Miles (fl. 1404)', 'Marion, Mississippi']\n",
      "Input mic yields a total 7 results with titles ['Micropterix lambesiella', 'Grand Haven, Michigan', 'Micellar solubilization', 'Michael Jordan', 'Stephen V. R. Trowbridge (Michigan legislator)', 'Michael Paul Fleischer', 'Michiyoshi']\n",
      "Input mich yields a total 5 results with titles ['Grand Haven, Michigan', 'Michael Jordan', 'Stephen V. R. Trowbridge (Michigan legislator)', 'Michael Paul Fleischer', 'Michiyoshi']\n",
      "Input miche yields a total 0 results with titles []\n",
      "Input michea yields a total 0 results with titles []\n"
     ]
    }
   ],
   "source": [
    "# now we can actually query on multiple fields that are generated automatically for us and simulate the results an incremental user input would yield\n",
    "\n",
    "input = 'micheal'\n",
    "\n",
    "for i in range(2, len(input)):\n",
    "    response = client.search(index='logstash-articles', size=100, query={\n",
    "        \"multi_match\": {\n",
    "            \"query\": input[:i],\n",
    "            \"type\": \"bool_prefix\",\n",
    "            \"fields\": [\n",
    "                \"title.search_as_you_type\",\n",
    "                \"title.search_as_you_type._2gram\",\n",
    "                \"title.search_as_you_type._3gram\",\n",
    "                \"title.search_as_you_type._index_prefix\"\n",
    "            ]\n",
    "        }},\n",
    "        source=['title'],\n",
    "    ).body\n",
    "    print(f\"Input {input[:i]} yields a total {response['hits']['total']['value']} results with titles {[r['_source']['title'] for r in response['hits']['hits']]}\")"
   ]
  },
  {
   "cell_type": "markdown",
   "metadata": {},
   "source": [
    "As the user input approaches the typo, the result set size is already narrowed down and could be used to navigate the user to the intended article. However, this functionality does not yet _fix_ the typo."
   ]
  },
  {
   "cell_type": "markdown",
   "metadata": {},
   "source": [
    "## Phonetic analysis\n",
    "\n",
    "As Elasticsearch is an open source project, it is no surprise that contributors have built on the project to address their use cases. Extensions to Elasticsearch can take the shape of [plugins](https://www.elastic.co/guide/en/elasticsearch/plugins/current/intro.html), that are relatively easy to install. Here we take a look at the plugin for phonetic analysis, that enables us to get phonetic representations of input tokens."
   ]
  },
  {
   "cell_type": "code",
   "execution_count": 28,
   "metadata": {},
   "outputs": [],
   "source": [
    "# first, we need to define an analyzer that uses the phonetic token filter\n",
    "assert client.indices.close(index='logstash-articles').body['acknowledged'], 'Technical error' # technically, we need to close the index temporarily - don't do this on a live system unless you know no new data will be added while index is closed\n",
    "\n",
    "client.indices.put_settings(\n",
    "    index='logstash-articles',\n",
    "    settings={\n",
    "        'analysis': {\n",
    "            'analyzer': {\n",
    "                'phonetic_analyzer': {\n",
    "                    'tokenizer': 'standard',\n",
    "                    'filter': [\n",
    "                        'lowercase',\n",
    "                        'beider_morse'\n",
    "                    ]\n",
    "                }\n",
    "            },\n",
    "            'filter': {\n",
    "                'beider_morse': {\n",
    "                    'type': 'phonetic',\n",
    "                    'encoder': 'beider_morse',\n",
    "                    'replace': False\n",
    "                }\n",
    "            }\n",
    "        }\n",
    "    }\n",
    ")\n",
    "assert client.indices.open(index='logstash-articles').body['acknowledged'], 'Technical error' # reopen index"
   ]
  },
  {
   "cell_type": "code",
   "execution_count": 29,
   "metadata": {},
   "outputs": [
    {
     "name": "stdout",
     "output_type": "stream",
     "text": [
      "\"Michael\" yields: ['mQxYl', 'mQxail', 'mQxoil', 'mitsDl', 'mitsail', 'mitsoil', 'mixDl', 'mixYl', 'mixail', 'mixoil']\n",
      "\"Micheal\" yields: ['mDxDl', 'mDxal', 'mDxil', 'mQxDl', 'mQxal', 'mQxil', 'miDl', 'mikDl', 'mikal', 'mikial', 'mikil', 'mikiol', 'misDl', 'misal', 'misil', 'mitsDl', 'mitsal', 'mitsil', 'mixDl', 'mixal', 'mixial', 'mixil', 'mixiol']\n",
      "Overlap: ['mitsDl', 'mixDl']\n"
     ]
    }
   ],
   "source": [
    "# test the analyzer and compare tokens yielded by 'Michael' and 'Micheal'\n",
    "\n",
    "michael_phonetic_tokens = [t['token'] for t in client.indices.analyze(\n",
    "    index='logstash-articles',\n",
    "    text=['michael'],\n",
    "    analyzer='phonetic_analyzer'\n",
    ").body['tokens']]\n",
    "print('\"Michael\" yields:', michael_phonetic_tokens)\n",
    "\n",
    "micheal_phonetic_tokens = [t['token'] for t in client.indices.analyze(\n",
    "    index='logstash-articles',\n",
    "    text=['micheal'],\n",
    "    analyzer='phonetic_analyzer'\n",
    ").body['tokens']]\n",
    "print('\"Micheal\" yields:', micheal_phonetic_tokens)\n",
    "\n",
    "print('Overlap:', [t for t in michael_phonetic_tokens if t in micheal_phonetic_tokens])"
   ]
  },
  {
   "cell_type": "markdown",
   "metadata": {},
   "source": [
    "Coincidentally, we can already see that an overlap in phonetic representation exists between 'Michael' and 'Micheal'. That could help us fix that pesky typo error."
   ]
  },
  {
   "cell_type": "code",
   "execution_count": 30,
   "metadata": {},
   "outputs": [
    {
     "name": "stdout",
     "output_type": "stream",
     "text": [
      "waiting for update.............................................. update done\n"
     ]
    }
   ],
   "source": [
    "# define a field that uses the phonetic analyzer\n",
    "\n",
    "assert client.indices.put_mapping(\n",
    "    index='logstash-articles',\n",
    "    properties={\n",
    "        'title': {\n",
    "            'type': 'text',\n",
    "            'norms': 'false',\n",
    "            'fields': {\n",
    "                'phonetic': {\n",
    "                    'type': 'text',\n",
    "                    'analyzer': 'phonetic_analyzer'\n",
    "                }\n",
    "            }\n",
    "        },\n",
    "        'summary': {\n",
    "            'type': 'text',\n",
    "            'norms': 'false',\n",
    "            'fields': {\n",
    "                'phonetic': {\n",
    "                    'type': 'text',\n",
    "                    'analyzer': 'phonetic_analyzer'\n",
    "                }\n",
    "            }\n",
    "        },\n",
    "        'content': {\n",
    "            'type': 'text',\n",
    "            'norms': 'false',\n",
    "            'fields': {\n",
    "                'phonetic': {\n",
    "                    'type': 'text',\n",
    "                    'analyzer': 'phonetic_analyzer'\n",
    "                }\n",
    "            }\n",
    "        }\n",
    "    }\n",
    ").body['acknowledged'], 'Technical error'\n",
    "\n",
    "\n",
    "# refresh index\n",
    "import time\n",
    "\n",
    "task_id = client.update_by_query(index='logstash-articles', wait_for_completion=False).body['task']\n",
    "\n",
    "print('waiting for update', end='')\n",
    "while not client.tasks.get(task_id=task_id).body['completed']:\n",
    "    print('.', end='')\n",
    "    time.sleep(1)\n",
    "    \n",
    "print(' update done')"
   ]
  },
  {
   "cell_type": "code",
   "execution_count": 31,
   "metadata": {},
   "outputs": [
    {
     "data": {
      "text/plain": [
       "{'took': 19,\n",
       " 'timed_out': False,\n",
       " '_shards': {'total': 1, 'successful': 1, 'skipped': 0, 'failed': 0},\n",
       " 'hits': {'total': {'value': 4, 'relation': 'eq'},\n",
       "  'max_score': 11.736343,\n",
       "  'hits': [{'_index': 'logstash-articles',\n",
       "    '_id': 'https://en.wikipedia.org/wiki/Mikhail_Makagonov',\n",
       "    '_score': 11.736343,\n",
       "    '_ignored': ['content.keyword'],\n",
       "    '_source': {'title': 'Mikhail Makagonov'},\n",
       "    'highlight': {'title.phonetic': ['<em>Mikhail</em> Makagonov']}},\n",
       "   {'_index': 'logstash-articles',\n",
       "    '_id': 'https://en.wikipedia.org/wiki/Michael_Jordan',\n",
       "    '_score': 10.53585,\n",
       "    '_ignored': ['content.keyword', 'summary.keyword'],\n",
       "    '_source': {'title': 'Michael Jordan'},\n",
       "    'highlight': {'title.phonetic': ['<em>Michael</em> Jordan']}},\n",
       "   {'_index': 'logstash-articles',\n",
       "    '_id': 'https://en.wikipedia.org/wiki/Lars_van_Meijel',\n",
       "    '_score': 10.398344,\n",
       "    '_ignored': ['content.keyword'],\n",
       "    '_source': {'title': 'Lars van Meijel'},\n",
       "    'highlight': {'title.phonetic': ['Lars van <em>Meijel</em>']}},\n",
       "   {'_index': 'logstash-articles',\n",
       "    '_id': 'https://en.wikipedia.org/wiki/Michael_Paul_Fleischer',\n",
       "    '_score': 10.398344,\n",
       "    '_ignored': ['content.keyword'],\n",
       "    '_source': {'title': 'Michael Paul Fleischer'},\n",
       "    'highlight': {'title.phonetic': ['<em>Michael</em> Paul Fleischer']}}]}}"
      ]
     },
     "execution_count": 31,
     "metadata": {},
     "output_type": "execute_result"
    }
   ],
   "source": [
    "# let's see if we can find something now\n",
    "\n",
    "client.search(index='logstash-articles', query={\n",
    "    'match': {\n",
    "        'title.phonetic': 'micheal'\n",
    "    }},\n",
    "    highlight={'fields': {'title.phonetic': {}}},\n",
    "    source=['title'],\n",
    ").body"
   ]
  },
  {
   "cell_type": "markdown",
   "metadata": {},
   "source": [
    "If everything went well, we should now have found some results that might be somewhat acceptable to a user base. However, so far we have focussed on finding good data types to prepare the data we want to query, yet the types of queries we have explored so far are quite basic and don't take advantage of Elasticsearch's query DSL."
   ]
  },
  {
   "cell_type": "markdown",
   "metadata": {},
   "source": [
    "## Fuzziness\n",
    "\n",
    "Fuzziness is a quite simple concept that is available in many types of queries defined in the [Elasticsearch query DSL](https://www.elastic.co/guide/en/elasticsearch/reference/current/query-dsl.html). Applied to our earlier example, it fixes the problem by expanding the searched query terms to similar tokens, e.g. changing or removing a character, or transposing adjacent ones."
   ]
  },
  {
   "cell_type": "code",
   "execution_count": 32,
   "metadata": {},
   "outputs": [
    {
     "data": {
      "text/plain": [
       "{'took': 17,\n",
       " 'timed_out': False,\n",
       " '_shards': {'total': 1, 'successful': 1, 'skipped': 0, 'failed': 0},\n",
       " 'hits': {'total': {'value': 2, 'relation': 'eq'},\n",
       "  'max_score': 7.235198,\n",
       "  'hits': [{'_index': 'logstash-articles',\n",
       "    '_id': 'https://en.wikipedia.org/wiki/Michael_Jordan',\n",
       "    '_score': 7.235198,\n",
       "    '_ignored': ['content.keyword', 'summary.keyword'],\n",
       "    '_source': {'title': 'Michael Jordan'},\n",
       "    'highlight': {'title': ['<em>Michael</em> Jordan']}},\n",
       "   {'_index': 'logstash-articles',\n",
       "    '_id': 'https://en.wikipedia.org/wiki/Michael_Paul_Fleischer',\n",
       "    '_score': 7.235198,\n",
       "    '_ignored': ['content.keyword'],\n",
       "    '_source': {'title': 'Michael Paul Fleischer'},\n",
       "    'highlight': {'title': ['<em>Michael</em> Paul Fleischer']}}]}}"
      ]
     },
     "execution_count": 32,
     "metadata": {},
     "output_type": "execute_result"
    }
   ],
   "source": [
    "# let's see if a fuzzy query fixes the typo problem\n",
    "\n",
    "client.search(index='logstash-articles', query={\n",
    "    'match': {\n",
    "        'title': {\n",
    "            'query': 'micheal',\n",
    "            'fuzziness': 1,\n",
    "            'fuzzy_transpositions': True\n",
    "        }\n",
    "    }},\n",
    "    highlight={'fields': {'title': {}}},\n",
    "    source=['title'],\n",
    ").body"
   ]
  },
  {
   "cell_type": "markdown",
   "metadata": {},
   "source": [
    "A disadvantage of fuzzy queries, while tempting, is their relatively high computational cost that may impede the query execution time in larger datasets as well as growing the result set size (see [precision and recall problem](https://en.wikipedia.org/wiki/Precision_and_recall))."
   ]
  },
  {
   "cell_type": "markdown",
   "metadata": {},
   "source": [
    "## Compounding queries\n",
    "\n",
    "It is time to put together multiple queries into one more complex query that allows a more fine-grained control over our result set and its ordering. A very popular type of this is the Boolean query type, which does exactly what the name suggests: Combine multiple queries into a boolean construct (think `and`, `or`, and `not`).\n",
    "\n",
    "Each Boolean query consists of up to four parts:\n",
    "\n",
    "    \"bool\": {\n",
    "        \"must\": {}, // define what a result must look like\n",
    "        \"filter\": {}, // define what a result must look like - but do not score positive results (thus faster and applicable for caching)\n",
    "        \"should\": {}, // define what a result should look like - if multiple queries are defined, matching one is enough (unless the minimum is overwritten)\n",
    "        \"must_not\": {} // define what a result must not look like\n",
    "    }"
   ]
  },
  {
   "cell_type": "code",
   "execution_count": 33,
   "metadata": {},
   "outputs": [
    {
     "data": {
      "text/plain": [
       "{'took': 65,\n",
       " 'timed_out': False,\n",
       " '_shards': {'total': 1, 'successful': 1, 'skipped': 0, 'failed': 0},\n",
       " 'hits': {'total': {'value': 74, 'relation': 'eq'},\n",
       "  'max_score': 22.729939,\n",
       "  'hits': [{'_index': 'logstash-articles',\n",
       "    '_id': 'https://en.wikipedia.org/wiki/Michael_Jordan',\n",
       "    '_score': 22.729939,\n",
       "    '_ignored': ['content.keyword', 'summary.keyword'],\n",
       "    '_source': {'title': 'Michael Jordan'},\n",
       "    'highlight': {'summary': ['<em>Michael</em> Jeffrey Jordan OLY (born February 17, 1963), also known by his initials MJ, is an American businessman',\n",
       "      'His biography on the official NBA website states: \"By acclamation, <em>Michael</em> Jordan is the greatest basketball'],\n",
       "     'title': ['<em>Michael</em> Jordan'],\n",
       "     'content': ['Jordan; the marketing of <em>Michael</em> Jordan.',\n",
       "      'Rare Air: <em>Michael</em> on <em>Michael</em>, with Mark Vancil and Walter Iooss (Harper San Francisco, 1993).',\n",
       "      \"Jordan's Restaurant\\n<em>Michael</em> Jordan: Chaos in the Windy City\\n<em>Michael</em> Jordan in Flight\\nNBA 2K11\\nNBA 2K12\",\n",
       "      \"Kruger, <em>Mitchell</em> (2003). One Last Shot: The Story of <em>Michael</em> Jordan's Comeback. New York City: St.\",\n",
       "      'player information from Baseball Reference (Minors)\\n<em>Michael</em> Jordan Career Retrospective on YouTube\\n<em>Michael</em>']}},\n",
       "   {'_index': 'logstash-articles',\n",
       "    '_id': 'https://en.wikipedia.org/wiki/Michael_Paul_Fleischer',\n",
       "    '_score': 17.633541,\n",
       "    '_ignored': ['content.keyword'],\n",
       "    '_source': {'title': 'Michael Paul Fleischer'},\n",
       "    'highlight': {'summary': ['<em>Michael</em> Paul Fleischer is a United States businessman from the state of New Jersey.'],\n",
       "     'title': ['<em>Michael</em> Paul Fleischer'],\n",
       "     'content': ['<em>Michael</em> Paul Fleischer is a United States businessman from the state of New Jersey.\\n\\n\\n== Career ==\\nOn',\n",
       "      \"Foley, a top Bush fund-raiser, and then by <em>Michael</em> Fleisher, brother of President Bush's first press\",\n",
       "      'cronyism.\"\\'\\n\\n\\n== References ==\\n\\n\\n== External links ==\\nInsiders Shape Postwar Iraq, by Andrew Zajac\\n<em>Michael</em>',\n",
       "      'Fleisher\\n<em>Michael</em> Fleisher']}},\n",
       "   {'_index': 'logstash-articles',\n",
       "    '_id': 'https://en.wikipedia.org/wiki/Fianna_%C3%89ireann',\n",
       "    '_score': 8.4255905,\n",
       "    '_ignored': ['content.keyword', 'summary.keyword'],\n",
       "    '_source': {'title': 'Fianna Éireann'},\n",
       "    'highlight': {'content': ['Republican Brotherhood (IRB), and in 1912 Hobson started an IRB circle within the Fianna, named the John <em>Mitchel</em>',\n",
       "      \"Con Colbert, <em>Michael</em> Lonergan, Éamon Martin and Padraig Ó'Riain were prominent in training Irish Volunteers\",\n",
       "      'Irish Citizen Army (the Irish Volunteers was an exclusively male force); Markievicz, operating under <em>Michael</em>',\n",
       "      '1917, a section of the Fianna marched in full uniform to mass at Blanchardstown, County Dublin for <em>Michael</em>',\n",
       "      'In August 1922 (the same month that saw the deaths of <em>Michael</em> Collins and Arthur Griffith), the Fianna']}},\n",
       "   {'_index': 'logstash-articles',\n",
       "    '_id': 'https://en.wikipedia.org/wiki/Institut_Sup%C3%A9rieur_de_Marketing_du_Luxe_(Sup_de_Luxe)',\n",
       "    '_score': 8.3559885,\n",
       "    '_ignored': ['content.keyword', 'summary.keyword'],\n",
       "    '_source': {'title': 'Institut Supérieur de Marketing du Luxe (Sup de Luxe)'},\n",
       "    'highlight': {'content': ['Marketing and Merchandising: Jean-Pierre Richard, a HEC graduate; <em>Michaela</em> MERK, a PhD graduate in Management',\n",
       "      'Merit (France), Commander of Arts and letters and Officer of the Order of Agricultural Merit.\\n\\n\\n=== <em>Michel</em>',\n",
       "      'Guten ===\\n<em>Michel</em> Guten began his career at Silver Match, where he became Chairman and CEO in 1977.',\n",
       "      '<em>Michel</em> Guten became President of \"Sup de Luxe\" in 1990, a course designed as a postgraduate specialization',\n",
       "      'After an influential meeting with Alain Dominique Perrin and <em>Michel</em> Guten, he contributed to EDC Paris']}},\n",
       "   {'_index': 'logstash-articles',\n",
       "    '_id': 'https://en.wikipedia.org/wiki/Afterglow_(Sarah_McLachlan_album)',\n",
       "    '_score': 8.130879,\n",
       "    '_ignored': ['content.keyword', 'summary.keyword'],\n",
       "    '_source': {'title': 'Afterglow (Sarah McLachlan album)'},\n",
       "    'highlight': {'content': ['Personnel ==\\nSarah McLachlan – vocals, electric guitar, piano, Rhodes piano, keyboards\\nSean Ashby – guitar\\n<em>Michel</em>',\n",
       "      'Pepin – guitar\\nPete Caigan – engineering\\n<em>Michael</em> Chaves – guitar\\nJim Creeggan – acoustic bass\\nYanick']}},\n",
       "   {'_index': 'logstash-articles',\n",
       "    '_id': 'https://en.wikipedia.org/wiki/Waywords_and_Meansigns_Opendoor_Edition',\n",
       "    '_score': 8.130879,\n",
       "    '_ignored': ['content.keyword', 'summary.keyword'],\n",
       "    '_source': {'title': 'Waywords and Meansigns Opendoor Edition'},\n",
       "    'highlight': {'content': ['Chapter 1 (pp. 003-029)\\n  \\u2003  003-010.24 - The Here Comes Everybody Players\\n  \\u2003  003.01-003.09 - Hervé <em>Michel</em>',\n",
       "      '\\u2003  229.29-230.25 - Brendan Kinsella and Brian Tyree\\n  \\u2003  230.26-231.22 - STV\\n  \\u2003  231.23-232.26 - <em>Michael</em>']}},\n",
       "   {'_index': 'logstash-articles',\n",
       "    '_id': 'https://en.wikipedia.org/wiki/Pavel_Jan%C3%A1%C4%8Dek',\n",
       "    '_score': 8.130879,\n",
       "    '_ignored': ['content.keyword', 'summary.keyword'],\n",
       "    '_source': {'title': 'Pavel Janáček'},\n",
       "    'highlight': {'content': ['.\\n\\n\\n== References ==\\n\\n\\n== Bibliography ==\\nJanáček, Pavel; Jareš, <em>Michal</em> (2013). Svět rodokapsu.',\n",
       "      'Cenzura a sociální regulace literatury v moderní české kultuře, 1749-2014 (with <em>Michael</em> Wögerbauer, Petr']}},\n",
       "   {'_index': 'logstash-articles',\n",
       "    '_id': 'https://en.wikipedia.org/wiki/Shulamit_Reinharz',\n",
       "    '_score': 8.130879,\n",
       "    '_ignored': ['content.keyword', 'summary.keyword'],\n",
       "    '_source': {'title': 'Shulamit Reinharz'},\n",
       "    'highlight': {'content': ['Shula\" Rothschild was born in 1946 in Amsterdam, the Netherlands to Ilse Hertha (née Strauss) and Max <em>Michael</em>',\n",
       "      'Palgi, <em>Michal</em>; Reinharz, Shulamit (2011).']}},\n",
       "   {'_index': 'logstash-articles',\n",
       "    '_id': 'https://en.wikipedia.org/wiki/Kruger',\n",
       "    '_score': 8.0985985,\n",
       "    '_ignored': ['content.keyword', 'summary.keyword'],\n",
       "    '_source': {'title': 'Kruger'},\n",
       "    'highlight': {'content': ['Carl Kruger (born 1949), American politician\\nClifford Krueger (1918–1988), American politician\\nDavid <em>Michael</em>',\n",
       "      'Krueger (1906–1991), American politician and academic\\n<em>Michael</em> Krüger (born 1954), German footballer and',\n",
       "      'manager\\n<em>Mitchell</em> Krueger (born 1994), American tennis player\\nMyron W.']}},\n",
       "   {'_index': 'logstash-articles',\n",
       "    '_id': 'https://en.wikipedia.org/wiki/Moi_Avei',\n",
       "    '_score': 6.948302,\n",
       "    '_ignored': ['content.keyword', 'summary.keyword'],\n",
       "    '_source': {'title': 'Moi Avei'},\n",
       "    'highlight': {'summary': ['He was Deputy Prime Minister of Papua New Guinea from 2004 to 2006 under <em>Michael</em> Somare.',\n",
       "      \"He was variously PNG's Director of Child Welfare, a political advisor (at various times to <em>Michael</em> Somare\"],\n",
       "     'content': ['He was Deputy Prime Minister of Papua New Guinea from 2004 to 2006 under <em>Michael</em> Somare.',\n",
       "      \"He was variously PNG's Director of Child Welfare, a political advisor (at various times to <em>Michael</em> Somare\"]}}]}}"
      ]
     },
     "execution_count": 33,
     "metadata": {},
     "output_type": "execute_result"
    }
   ],
   "source": [
    "client.search(index='logstash-articles', query={\n",
    "    'bool': {\n",
    "        'filter': [\n",
    "            {\n",
    "                \"multi_match\": {\n",
    "                    \"query\": \"micheal\",\n",
    "                    'fields': [\n",
    "                        'title.ngram',\n",
    "                        'summary.ngram',\n",
    "                        'content.ngram'\n",
    "                    ]\n",
    "                }\n",
    "            }\n",
    "        ],\n",
    "        'must': [\n",
    "            {\n",
    "                \"multi_match\": {\n",
    "                    \"query\": \"micheal\",\n",
    "                    'fuzziness': 2,\n",
    "                    'fuzzy_transpositions': True,\n",
    "                    'fields': [\n",
    "                        'title',\n",
    "                        'summary',\n",
    "                        'content'\n",
    "                    ]\n",
    "                }\n",
    "            }\n",
    "        ],\n",
    "        'should': [\n",
    "            {\n",
    "                'match': {\n",
    "                    'title.phonetic': {\n",
    "                        'query': 'micheal'\n",
    "                    }\n",
    "                }\n",
    "            },\n",
    "            {\n",
    "                'match': {\n",
    "                    'title': {\n",
    "                        'query': 'micheal'\n",
    "                    }\n",
    "                }\n",
    "            }\n",
    "        ]\n",
    "    }},\n",
    "    highlight={'fields': {'title': {}, 'summary': {}, 'content': {}}},\n",
    "    source=['title'],\n",
    ").body"
   ]
  },
  {
   "cell_type": "markdown",
   "metadata": {},
   "source": [
    "We are taking a multi-layered approach to our query:\n",
    "\n",
    "- First, we filter for any articles that contain ngrams as related to the search term in any of the relevant fields we have looked at so far. This reduces the number of documents Elasticsearch has to consider during the scoring phase and speeds up the query execution time while not discarding any eligible documents;\n",
    "- Second, we set a baseline score for any documents that contain a fuzzy transposition of the search term in the same fields. Because we have already reduced the number of candidates, we can afford a fairly greedy approach with an allowed editing distance of 2;\n",
    "- Then, we score documents higher that match one or both of two matching queries, either with a phonetic equivalence or a direct lexical match.\n",
    "\n",
    "Now we have a query that takes advantage of multiple text analysis features, is to an extent tolerant to typing mistakes and scans several relevant fields. To improve user experience, we could further incorporate the `search_as_you_type`-fields. Feel free to try your hand at it!"
   ]
  },
  {
   "cell_type": "markdown",
   "metadata": {},
   "source": [
    "# Further down the rabbit hole\n",
    "\n",
    "While we now have a good starting point, we have barely scratched the surface of the text analysis tools included in Elasticsearch. To round things off, let's have a cursory glance at some further features we could use to make our query design better."
   ]
  },
  {
   "cell_type": "markdown",
   "metadata": {},
   "source": [
    "## Regression & Testing\n",
    "\n",
    "As said earlier, Elasticsearch's query DSL offers various ways to match your query design to the user's expectations. To test whether or not an adjusted query matches your expectations in results, it is a good idea to build a test suite, e.g. using [the ranking evaluation API](https://www.elastic.co/guide/en/elasticsearch/reference/current/search-rank-eval.html): This allows defining a set of documents that you either want or do not want to appear in the search result list dependening on the query and its parameters."
   ]
  },
  {
   "cell_type": "markdown",
   "metadata": {},
   "source": [
    "    POST logstash-articles/_rank_eval\n",
    "    {\n",
    "    \"requests\": [\n",
    "        { \n",
    "        \"id\": \"micheal_query\",\n",
    "        \"request\": { // the request to be tested\n",
    "        \"query\": { \"match\": { \"title.phonetic\": \"micheal\" } }\n",
    "        },\n",
    "        \"ratings\": [ \n",
    "            { \"_index\": \"logstash-articles\", \"_id\": \"https://en.wikipedia.org/wiki/Michael_Jordan\", \"rating\": 3 },\n",
    "            { \"_index\": \"logstash-articles\", \"_id\": \"https://en.wikipedia.org/wiki/Michael_Paul_Fleischer\", \"rating\": 1 },\n",
    "            { \"_index\": \"logstash-articles\", \"_id\": \"https://en.wikipedia.org/wiki/Scheldeprijs\", \"rating\": 0 }\n",
    "            ]\n",
    "        },\n",
    "        {\n",
    "        \"id\": \"michael_query\",\n",
    "        \"request\": {\n",
    "            \"query\": { \"match\": { \"title\": \"michael\" } }\n",
    "        },\n",
    "        \"ratings\": [\n",
    "            { \"_index\": \"logstash-articles\", \"_id\": \"https://en.wikipedia.org/wiki/Michael_Jordan\", \"rating\": 3 }\n",
    "            ]\n",
    "        }\n",
    "        ],\n",
    "        \"metric\": { \n",
    "        \"precision\": {\n",
    "            \"k\": 20,\n",
    "            \"relevant_rating_threshold\": 1,\n",
    "            \"ignore_unlabeled\": false\n",
    "        }\n",
    "        }\n",
    "    }"
   ]
  },
  {
   "cell_type": "markdown",
   "metadata": {},
   "source": [
    "This is especially useful if we are in constant conversation with our testers and want to further develop our query design, but also  keep what has worked well so far."
   ]
  },
  {
   "cell_type": "markdown",
   "metadata": {},
   "source": [
    "## Runtime fields\n",
    "\n"
   ]
  },
  {
   "cell_type": "markdown",
   "metadata": {},
   "source": [
    "Another very useful feature for development purposes are [`runtime_fields`](https://www.elastic.co/guide/en/elasticsearch/reference/current/runtime.html). Normally, as we have done so far, the fields of an index should be declared before the _ingest_ of data, that is before any data are loaded into Elasticsearch. Alternatively, fields can be added on an existing index, which is then refreshed to perform the defined analysis on the documents, until which the field is not usable. `runtime_fields` allow a different approach: The value of the field is determined during `runtime`, i.e. when the data are already being queried or analyzed. The value of the `runtime_field` can be set by providing a script through the search API or by adding it manually through Kibana. Let's have a look."
   ]
  },
  {
   "cell_type": "markdown",
   "metadata": {},
   "source": [
    "    GET logstash-articles/_search\n",
    "    {\n",
    "        \"runtime_mappings\": {\n",
    "            \"#links\": {\n",
    "                \"type\": \"long\",\n",
    "                \"script\": \"emit(doc['links.keyword'].length);\"\n",
    "            }\n",
    "        },\n",
    "        \"query\": {\n",
    "            \"range\": {\n",
    "                \"#links\": {\n",
    "                    \"gte\": 1000\n",
    "                }\n",
    "            }\n",
    "        },\n",
    "        \"_source\": [\"title\"]\n",
    "    }"
   ]
  },
  {
   "cell_type": "markdown",
   "metadata": {},
   "source": [
    "`runtime_fields` are useful during development or for fringe use cases. Once you find that a field is useful to your use case, you have to decide whether you want to keep the functionality encapsuled during runtime or convert it to a more permanent stored solution - both have advantages regarding storage and execution speed."
   ]
  },
  {
   "cell_type": "markdown",
   "metadata": {},
   "source": [
    "## NLP\n",
    "\n",
    "Now let's get a little more fancy. As stated above, plugins and extensions are a part of the Elastic stack as well. [OpenNLP](https://opennlp.apache.org/) is a Machine Learning (ML)-based framework for the processing of natural text and can be utilized for various tasks, among others for named entity recognition (NER). Elasticsearch can be configured to load trained ML models to perform analysis on ingested text. To do this you need to first [load the plugin](https://github.com/spinscale/elasticsearch-ingest-opennlp) and the necessary ML models into Elasticsearch by downloading both and then configuring the service to utilize the model files.\n",
    "\n",
    "The setup steps are provided for you in this workspace, and you can try out the NER models using the code below."
   ]
  },
  {
   "cell_type": "code",
   "execution_count": 34,
   "metadata": {},
   "outputs": [
    {
     "data": {
      "text/plain": [
       "ObjectApiResponse({'_index': 'annotated-index', '_id': '23', '_version': 1, 'result': 'created', '_shards': {'total': 2, 'successful': 1, 'failed': 0}, '_seq_no': 0, '_primary_term': 1})"
      ]
     },
     "execution_count": 34,
     "metadata": {},
     "output_type": "execute_result"
    }
   ],
   "source": [
    "# create ingest pipeline that uses the OpenNLP processor\n",
    "assert client.ingest.put_pipeline(\n",
    "    id='opennlp-pipeline',\n",
    "    processors=[\n",
    "    {\n",
    "      \"opennlp\" : {\n",
    "        \"field\" : \"text\",\n",
    "        \"annotated_text_field\" : \"annotated_text\"\n",
    "      }\n",
    "    }\n",
    "  ]\n",
    ").body['acknowledged'], 'Ingest pipeline could not be created'\n",
    "\n",
    "# get an example\n",
    "example = client.search(query={\n",
    "    'match': {\n",
    "        'title': 'Michael Jordan'\n",
    "    }\n",
    "}).body\n",
    "content = example['hits']['hits'][0]['_source']['content']\n",
    "\n",
    "# index the example test\n",
    "client.index(\n",
    "    index='annotated-index',\n",
    "    id='23',\n",
    "    document={\n",
    "        'text': content\n",
    "    },\n",
    "    pipeline='opennlp-pipeline',\n",
    "    timeout=\"600s\"\n",
    ")\n",
    "\n",
    "# NOTE this may cause a timeout - don't worry, the data is still processed"
   ]
  },
  {
   "cell_type": "code",
   "execution_count": 35,
   "metadata": {},
   "outputs": [
    {
     "name": "stdout",
     "output_type": "stream",
     "text": [
      "Mentioned persons: ['Condor', 'Sandro Miller', 'Marv Albert', 'Chris Mullin', 'Simon', 'Michael', 'Karl Malone', 'Jason Kidd', 'Story', 'Bryant', 'Harper San Francisco', 'Charles Oakley', 'Mark Vancil', 'Mike', 'James R . Jordan Sr .', 'Bob Knight', 'Russell Westbrook', 'Minor League Baseball', 'Ed Bradley', 'Jordan', 'John R . Wooden', 'Daniel Green', 'Ben', 'Rodman', 'Kobe Bryant', 'With Scottie Pippen', 'Ron Harper', 'Rod Strickland', 'After Jordan', 'Nick Anderson', \"Shaquille O ' Neal\", 'Stu Inman', 'Jordan Brand', 'Brand', 'Marcus', 'Sam Perkins', 'Wade', 'Babe Ruth', 'Rip \" Hamilton', 'David L .', 'Kwame Brown', 'Jerry West', 'Jordan \"', 'Abe Pollin', 'James Harden', 'Dean Smith', 'Abdul - Jabbar', 'Steve Alford', 'Jordan Rules', 'Derek Jeter', 'Richard Esquinas', 'Michael Jordan Celebrity Invitational', 'Bugs Bunny', 'Victoria', 'Jason Hehir', 'Travis Scott', 'David Steward', 'Larry Hughes', 'Johnson', 'James', 'David Thompson', 'George Shinn', 'Barack Obama', 'Jerry Reinsdorf', 'Dan Devine', 'Bob', 'Roy S . Johnson', 'Larry Martin Demery', 'Clyde Drexler', 'Knafel', 'David', 'Michael Jordan', 'Jordan Motorsports', 'Robert L . Johnson', 'Muhammad Ali', 'Citing Bowie', 'Spike Lee', 'Lee', 'Charles Barkley', 'Walter Iooss', 'Phil Jackson', 'Don Nelson', 'Gary Payton', 'Jason Whitlock', 'Ron Shelton', 'Larry Bird', 'Kevin Garnett', 'Vince Carter', 'Horace Grant', 'Michael Jackson', 'Russell', 'Clyde \"', 'Daniel Sundheim', 'Isiah Thomas', 'George Floyd', 'Scottie Pippen', 'Mitchell', 'W . W . Norton', 'Sam Bowie', 'Kareem Abdul - Jabbar', 'Allen Iverson', 'Robert F . Smith', 'Sportswriter Wright Thompson', 'Larry Jordan', 'Patrick Ewing', 'James Jordan', 'Steve Kerr', 'George Postolos', 'Dwyane Wade', 'Thompson', 'LeBron James', 'Magic Johnson', 'Toni Kukoč', 'David Stern', 'Michael Jordan Career Retrospective', 'Irving J .', 'Malone', 'Brown', 'Sam Vincent', 'Doug Brady', 'Jordan Drive', 'Jack Hartman', 'Justin Jordan', 'Jasmine', 'Grant Hill', 'Adam Morrison', 'Dunk Contest', 'Glen Rice', 'Jerry Stackhouse', 'Mario Lemieux', 'Wayne Gretzky', 'Loyola Academy', 'Bryon Russell', 'John Paxson', 'Deloris', 'Penny Hardaway', 'James R . Jordan Jr .', 'Bill Russell', 'Bobby Simmons', 'Family Clinics', 'His', 'Willis Reed', 'Broadcaster Al Michaels', 'Despite Jordan', 'John Salmons', 'Luka Dončić', 'Gatorade', 'Subsequently', 'James Worthy', 'Mike \"', 'Andrei S', 'Walter Davis', 'Doug Collins', 'Julius Erving . Larry Bird', 'David Falk', 'Doug Colling', 'Porter', 'Jeffrey', 'Walter', 'Jeffrey Jordan OLY', 'Roland', 'Dennis Rodman', 'Doc Rivers', 'Oprah Winfrey']\n",
      "Mentioned locations: ['North Carolina', 'Florence', 'Lumberton', 'Utah', 'Bahamas', 'Syracuse', 'Las Vegas', 'Madison Square Garden', 'Seattle', 'California', 'Florida', 'Sarasota', 'Illinois', 'Maryland', 'Keeps', 'Portland', 'Hobe Sound', 'United States', 'Oklahoma', 'Jupiter Island', 'South Carolina', 'Washington', 'Massachusetts', 'Habitat', 'Jordan', 'Nevada', 'Johnson', 'Century', 'Venezuela', 'Orlando', 'Springfield', 'Louisiana', 'Philadelphia', 'Orlando Magic', 'Atlantic City', 'U . S .', 'Greensboro', 'Charlotte', 'Detroit', 'New Hanover County', 'New York City', 'Bowie', 'Madison Street', 'Portland Trail Blazers', 'Wilmington', 'Trieste', 'Highland Park', 'Magic Johnson', 'MVPs', 'Caracas', 'Italy', 'Wilmette', 'Durham', 'John Stockton', 'Indianapolis', 'Cook County', 'Broadway', 'Brooklyn', 'Cleveland', 'Mars', 'Atlanta', 'America', 'Phoenix', 'New York', 'Chicago', 'Magic', 'the Americas', 'New Jersey', '2016', 'Scottie', 'Bethesda', 'Mercury', 'Fort Greene']\n",
      "Mentioned dates: ['November 30', '20 th century', '10', '12', 'November 1 , 1994', 'summer of 2001', 'September 25 , 2001', 'September 1996', 'past 50 years', 'Later', 'June 5 , 1997', 'July 21 , 2006', 'November 11', 'March', 'February 27', 'October 22', 'February 21 , 2003', '21 st century', 'September 2020', 'April 11 , 2003', 'two decades later', 'spring', 'March 28 , 1990', 'Last', '20 th Century \" 10', 'January 13 , 1999', 'August 2020', 'March 28 , 1995', 'October 6 , 1993', '1988 , 1996', '2001', '2000', 'July 23 , 1993', 'February 11 , 2014', 'August 3', 'May 2020', '1988 , 1991', 'December 29 , 2006', 'Christmas', 'September', '2012', '2011', '2010', '2009', '2008', '2007', '2006', '2005', '2004', '2003', '2002', 'September 21', 'November', 'fall of 2009', '2022', 'August 2009', '2021', '2020', 'January 4 , 2002', 'A decade earlier', '2019', '2018', '2017', '2015', '2014', '2013', 'April 29 , 2020', '1969', 'October 2021', '1968', 'February 2021', '1990 s', 'June 2010', 'last year', 'June 2014', '1975', 'December', '1987 and 1988', 'June 2009', '1979', 'June 5', 'June 3', '1990', 'March 18 , 1995', '2001 to 2014', 'January 19 , 2000', '1987', '1986', '1985', '1984', 'third quarter', '1983', '1982', '1981', 'September 11', '1989', '1988', 'April 27 , 2013', 'summer', '1998', '1997', '1996', '1995', 'June 14 , 1998', '1994', '1993', '1992', '1991', 'June 15 , 2006', 'January 1999', '1999', 'March 31 , 1994', 'March 17', 'April 20 , 1986', 'since 1991', '1992 , 1996', 'April 16', 'February 7 , 1994', 'January 20 , 2015', 'March 1995', 'Since 1976', '1985 , 1989', '1990 , 1993 14', 'summer of 1992', 'August 26 , 1985', '1980 s', 'September 2009', 'April', 'February 17 , 1963', 'Christmas 2011', 'May 7 , 2003', 'A year later', 'Since 2008', 'today', 'October 26 , 1984', 'November 1984', 'Since 2004', 'February', 'September 2 , 1989', 'Two decades later', 'February 2010', '13 th']\n"
     ]
    }
   ],
   "source": [
    "entities = client.get(\n",
    "    id='23',\n",
    "    index='annotated-index',\n",
    "    source=['entities.*']\n",
    ").body['_source']['entities']\n",
    "\n",
    "print('Mentioned persons:', entities['persons'])\n",
    "print('Mentioned locations:', entities['locations'])\n",
    "print('Mentioned dates:', entities['dates'])"
   ]
  }
 ],
 "metadata": {
  "kernelspec": {
   "display_name": "Python 3.8.13 64-bit ('3.8.13')",
   "language": "python",
   "name": "python3"
  },
  "language_info": {
   "codemirror_mode": {
    "name": "ipython",
    "version": 3
   },
   "file_extension": ".py",
   "mimetype": "text/x-python",
   "name": "python",
   "nbconvert_exporter": "python",
   "pygments_lexer": "ipython3",
   "version": "3.8.13"
  },
  "orig_nbformat": 4,
  "vscode": {
   "interpreter": {
    "hash": "110cc1dee26208153f2972f08a2ad52b6a56238dc66d48e87fb757ef2996db56"
   }
  }
 },
 "nbformat": 4,
 "nbformat_minor": 2
}
