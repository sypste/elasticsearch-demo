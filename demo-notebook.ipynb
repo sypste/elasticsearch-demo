{
 "cells": [
  {
   "cell_type": "markdown",
   "metadata": {},
   "source": [
    "# Setup\n",
    "\n",
    "Before we start developing with Elasticsearch, let's make sure we can \n",
    "\n",
    "- connect to the cluster\n",
    "- index some data\n",
    "- and perform a query on the index"
   ]
  },
  {
   "cell_type": "code",
   "execution_count": null,
   "metadata": {},
   "outputs": [],
   "source": [
    "from elasticsearch import Elasticsearch\n",
    "\n",
    "# Test Connection \n",
    "client = Elasticsearch(hosts=\"http://localhost:9200\", basic_auth=('elastic', 'changeme'))\n",
    "\n",
    "assert client.cluster.health()['status'] == 'green', 'Cluster not healthy'"
   ]
  },
  {
   "cell_type": "markdown",
   "metadata": {},
   "source": [
    "The connection should be established and the cluster health green - which means we're good to go!"
   ]
  },
  {
   "cell_type": "code",
   "execution_count": null,
   "metadata": {},
   "outputs": [],
   "source": [
    "# Create an index\n",
    "response = client.indices.create(index='my-first-index')\n",
    "\n",
    "assert response['acknowledged'], 'Index could not be created'\n",
    "assert client.indices.exists(index='my-first-index')"
   ]
  },
  {
   "cell_type": "code",
   "execution_count": null,
   "metadata": {},
   "outputs": [],
   "source": [
    "# Add a sample document\n",
    "client.index(index='my-first-index',id=23,document={\n",
    "    'message': 'Michael Jeffrey Jordan (born February 17, 1963), also known by his initials MJ, is an American businessman and former professional basketball player. He played fifteen seasons in the National Basketball Association (NBA), winning six NBA championships with the Chicago Bulls. Jordan is the principal owner and chairman of the Charlotte Hornets of the NBA and of 23XI Racing in the NASCAR Cup Series. His biography on the official NBA website states: \"By acclamation, Michael Jordan is the greatest basketball player of all time.\" He was integral in popularizing the NBA around the world in the 1980s and 1990s, becoming a global cultural icon in the process.'\n",
    "})\n",
    "assert client.exists(index='my-first-index',id=23)"
   ]
  },
  {
   "cell_type": "markdown",
   "metadata": {},
   "source": [
    "Now we've created an index and indexed one document - not bad, but we're just getting started! Let's try to search our data."
   ]
  },
  {
   "cell_type": "code",
   "execution_count": null,
   "metadata": {},
   "outputs": [],
   "source": [
    "client.search(query={\n",
    "    'match': {\n",
    "        'message': 'Michael'\n",
    "    }\n",
    "})"
   ]
  },
  {
   "cell_type": "code",
   "execution_count": null,
   "metadata": {},
   "outputs": [],
   "source": [
    "client.search(query={\n",
    "    'match': {\n",
    "        'message': 'GOAT'\n",
    "    }\n",
    "})"
   ]
  },
  {
   "cell_type": "markdown",
   "metadata": {},
   "source": [
    "# Growing the set\n",
    "\n",
    "We can already explore the search API with this minimal example, however we would always end up with one of two result sets (one result or none).\n",
    "\n",
    "To make things more interesting, we should probably accumulate a bit more data. I've prepared some random articles from Wikipedia to ingest into Elasticsearch."
   ]
  },
  {
   "cell_type": "code",
   "execution_count": null,
   "metadata": {},
   "outputs": [],
   "source": [
    "from collections import namedtuple\n",
    "\n",
    "import json, os\n",
    "\n",
    "for _article in os.listdir('./_articles/'):\n",
    "    with open(f'./_articles/{_article}', 'r', encoding='utf-8') as file:\n",
    "        _doc = json.load(file)\n",
    "\n",
    "        client.index(\n",
    "            index='my-second-index',\n",
    "            document={\n",
    "                'url': _doc['url'],\n",
    "                'title': _doc['title'],\n",
    "                'summary': _doc['summary'],\n",
    "                'content': _doc['content'],\n",
    "                'links': _doc['links'],\n",
    "            }\n",
    "        )\n",
    "\n",
    "assert client.count(index='my-second-index')['count'] == 1000, 'Apparently ingestion of some articles failed ¯\\_(ツ)_/¯'"
   ]
  },
  {
   "cell_type": "code",
   "execution_count": null,
   "metadata": {},
   "outputs": [],
   "source": []
  }
 ],
 "metadata": {
  "kernelspec": {
   "display_name": "Python 3.8.13 64-bit ('3.8.13')",
   "language": "python",
   "name": "python3"
  },
  "language_info": {
   "codemirror_mode": {
    "name": "ipython",
    "version": 3
   },
   "file_extension": ".py",
   "mimetype": "text/x-python",
   "name": "python",
   "nbconvert_exporter": "python",
   "pygments_lexer": "ipython3",
   "version": "3.8.13"
  },
  "orig_nbformat": 4,
  "vscode": {
   "interpreter": {
    "hash": "110cc1dee26208153f2972f08a2ad52b6a56238dc66d48e87fb757ef2996db56"
   }
  }
 },
 "nbformat": 4,
 "nbformat_minor": 2
}
