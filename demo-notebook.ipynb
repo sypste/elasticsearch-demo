{
 "cells": [
  {
   "cell_type": "markdown",
   "metadata": {},
   "source": [
    "# Setup\n",
    "\n",
    "Before we start developing with Elasticsearch, let's make sure \n",
    "\n",
    "- we can connect to the cluster,\n",
    "- some data are already available,\n",
    "- and we are able to perform a query on the index"
   ]
  },
  {
   "cell_type": "code",
   "execution_count": null,
   "metadata": {},
   "outputs": [],
   "source": [
    "from elasticsearch import Elasticsearch\n",
    "\n",
    "# Test Connection\n",
    "client = Elasticsearch(hosts=\"http://localhost:9200\",\n",
    "                       basic_auth=('elastic', 'changeme'))\n",
    "client.indices.put_settings(\n",
    "    settings={\n",
    "        \"index.number_of_replicas\": 0\n",
    "    })\n",
    "\n",
    "assert client.cluster.health()['status'] == 'green', 'Cluster not healthy'\n"
   ]
  },
  {
   "cell_type": "markdown",
   "metadata": {},
   "source": [
    "The connection should be established and the cluster health green - which means we're good to go!"
   ]
  },
  {
   "cell_type": "code",
   "execution_count": null,
   "metadata": {},
   "outputs": [],
   "source": [
    "# Create an index\n",
    "\n",
    "response = client.indices.create(index='my-first-index')\n",
    "\n",
    "assert response['acknowledged'], 'Index could not be created'\n",
    "assert client.indices.exists(index='my-first-index')"
   ]
  },
  {
   "cell_type": "code",
   "execution_count": null,
   "metadata": {},
   "outputs": [],
   "source": [
    "# Add a sample document\n",
    "\n",
    "client.index(index='my-first-index',id=23,document={\n",
    "    'content': 'Michael Jeffrey Jordan (born February 17, 1963), also known by his initials MJ, is an American businessman and former professional basketball player. He played fifteen seasons in the National Basketball Association (NBA), winning six NBA championships with the Chicago Bulls. Jordan is the principal owner and chairman of the Charlotte Hornets of the NBA and of 23XI Racing in the NASCAR Cup Series. His biography on the official NBA website states: \"By acclamation, Michael Jordan is the greatest basketball player of all time.\" He was integral in popularizing the NBA around the world in the 1980s and 1990s, becoming a global cultural icon in the process.'\n",
    "})\n",
    "assert client.exists(index='my-first-index',id=23)"
   ]
  },
  {
   "cell_type": "markdown",
   "metadata": {},
   "source": [
    "Now we've created an index and indexed one document - not bad, but we're just getting started! Let's try to search our data."
   ]
  },
  {
   "cell_type": "code",
   "execution_count": null,
   "metadata": {},
   "outputs": [],
   "source": [
    "# this should be easy\n",
    "\n",
    "client.search(index='my-first-index', query={\n",
    "    'match': {\n",
    "        'content': 'Michael'\n",
    "    }\n",
    "}, highlight={'fields':{'content':{}}}).body"
   ]
  },
  {
   "cell_type": "code",
   "execution_count": null,
   "metadata": {},
   "outputs": [],
   "source": [
    "# maybe Elasticsearch has even more answers?\n",
    "\n",
    "client.search(query={\n",
    "    'match': {\n",
    "        'content': 'GOAT'\n",
    "    }\n",
    "}).body"
   ]
  },
  {
   "cell_type": "markdown",
   "metadata": {},
   "source": [
    "## Growing the set\n",
    "\n",
    "We can already explore the search API with this minimal example, however, to make things more interesting, we should probably accumulate a bit more data. While setting up the cluster, some articles from Wikipedia were already ingested into the cluster."
   ]
  },
  {
   "cell_type": "code",
   "execution_count": null,
   "metadata": {},
   "outputs": [],
   "source": [
    "# count the indexed documents\n",
    "\n",
    "client.count(index='logstash-articles-*').body"
   ]
  },
  {
   "cell_type": "markdown",
   "metadata": {},
   "source": [
    "Within the prepared index, around a thousand documents are stored - that's more than one, and most are a bit longer than one paragraph.\n",
    "\n",
    "When dealing with new data, it's usually a good idea to get a feel for the format of the data. Feel free to use the launched Kibana app to explore the dataset! (Running on port 5601.) Here, we're content with a quick look at the fields containing data:\n",
    "\n",
    "- content\n",
    "- links\n",
    "- summary\n",
    "- tags\n",
    "- title\n",
    "- url"
   ]
  },
  {
   "cell_type": "code",
   "execution_count": null,
   "metadata": {},
   "outputs": [],
   "source": [
    "# let's have a look at the mapping\n",
    "\n",
    "client.indices.get_mapping(index='logstash-articles-*').body"
   ]
  },
  {
   "cell_type": "markdown",
   "metadata": {},
   "source": [
    "And let's see how many results we get for the same query as above ..."
   ]
  },
  {
   "cell_type": "code",
   "execution_count": null,
   "metadata": {},
   "outputs": [],
   "source": [
    "# Michael appears to be a fairly common name!\n",
    "\n",
    "client.search(index='logstash-articles-*', query={\n",
    "    'match': {\n",
    "        'content': 'michael'\n",
    "    }\n",
    "}).body"
   ]
  },
  {
   "cell_type": "markdown",
   "metadata": {},
   "source": [
    "## Limitations\n",
    "\n",
    "Elasticsearch indexes data using an [inverted index](https://en.wikipedia.org/wiki/Inverted_index), allowing fast searches across massive textual datasets. By default, texts / strings are indexed as type [`text`](https://www.elastic.co/guide/en/elasticsearch/reference/current/text.html) as well as [`keyword`](https://www.elastic.co/guide/en/elasticsearch/reference/current/keyword.html). So far, we have been searching on fields of type `text`, using the default [standard analyzer](https://www.elastic.co/guide/en/elasticsearch/reference/current/analysis-standard-analyzer.html), that tokenizes text and works well in most generic use cases. However, it has limitations once typos, a google-like search-as-you-type feel or domain-specific normalization come into play."
   ]
  },
  {
   "cell_type": "code",
   "execution_count": null,
   "metadata": {},
   "outputs": [],
   "source": [
    "# a fairly standard typo yields no results\n",
    "\n",
    "client.search(index='logstash-articles-*', query={\n",
    "    'match': {\n",
    "        'content': 'micheal'\n",
    "    }\n",
    "}).body"
   ]
  },
  {
   "cell_type": "markdown",
   "metadata": {},
   "source": [
    "# Analytical features\n",
    "\n",
    "To address such use cases, Elasticsearch offers an array of instruments that can be used individually or in conjunction to match feature requests and improve the accuraccy of search results."
   ]
  },
  {
   "cell_type": "markdown",
   "metadata": {},
   "source": [
    "## Ngrams"
   ]
  },
  {
   "cell_type": "markdown",
   "metadata": {},
   "source": [
    "## Search-as-you-type"
   ]
  },
  {
   "cell_type": "markdown",
   "metadata": {},
   "source": [
    "## Phonetic analysis"
   ]
  },
  {
   "cell_type": "markdown",
   "metadata": {},
   "source": [
    "## NLP"
   ]
  },
  {
   "cell_type": "markdown",
   "metadata": {},
   "source": [
    "# Further down the rabbit hole"
   ]
  }
 ],
 "metadata": {
  "kernelspec": {
   "display_name": "Python 3.8.13 64-bit ('3.8.13')",
   "language": "python",
   "name": "python3"
  },
  "language_info": {
   "codemirror_mode": {
    "name": "ipython",
    "version": 3
   },
   "file_extension": ".py",
   "mimetype": "text/x-python",
   "name": "python",
   "nbconvert_exporter": "python",
   "pygments_lexer": "ipython3",
   "version": "3.8.13"
  },
  "orig_nbformat": 4,
  "vscode": {
   "interpreter": {
    "hash": "110cc1dee26208153f2972f08a2ad52b6a56238dc66d48e87fb757ef2996db56"
   }
  }
 },
 "nbformat": 4,
 "nbformat_minor": 2
}
