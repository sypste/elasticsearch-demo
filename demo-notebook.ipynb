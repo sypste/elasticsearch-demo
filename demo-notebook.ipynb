{
 "cells": [
  {
   "cell_type": "markdown",
   "metadata": {},
   "source": [
    "# Setup\n",
    "\n",
    "Before we start developing with Elasticsearch, let's make sure we can \n",
    "\n",
    "- connect to the cluster\n",
    "- index some data\n",
    "- and perform a query on the index"
   ]
  },
  {
   "cell_type": "code",
   "execution_count": 3,
   "metadata": {},
   "outputs": [
    {
     "ename": "AssertionError",
     "evalue": "Cluster not healthy",
     "output_type": "error",
     "traceback": [
      "\u001b[0;31m---------------------------------------------------------------------------\u001b[0m",
      "\u001b[0;31mAssertionError\u001b[0m                            Traceback (most recent call last)",
      "\u001b[1;32m/workspace/elasticsearch-demo/demo-notebook.ipynb Cell 2'\u001b[0m in \u001b[0;36m<cell line: 6>\u001b[0;34m()\u001b[0m\n\u001b[1;32m      <a href='vscode-notebook-cell://sypste-elasticsearchdem-khx2lunv4eu.ws-eu47.gitpod.io/workspace/elasticsearch-demo/demo-notebook.ipynb#ch0000001vscode-remote?line=2'>3</a>\u001b[0m \u001b[39m# Test Connection \u001b[39;00m\n\u001b[1;32m      <a href='vscode-notebook-cell://sypste-elasticsearchdem-khx2lunv4eu.ws-eu47.gitpod.io/workspace/elasticsearch-demo/demo-notebook.ipynb#ch0000001vscode-remote?line=3'>4</a>\u001b[0m client \u001b[39m=\u001b[39m Elasticsearch(\u001b[39m\"\u001b[39m\u001b[39mhttp://localhost:9200\u001b[39m\u001b[39m\"\u001b[39m)\n\u001b[0;32m----> <a href='vscode-notebook-cell://sypste-elasticsearchdem-khx2lunv4eu.ws-eu47.gitpod.io/workspace/elasticsearch-demo/demo-notebook.ipynb#ch0000001vscode-remote?line=5'>6</a>\u001b[0m \u001b[39massert\u001b[39;00m client\u001b[39m.\u001b[39mcluster\u001b[39m.\u001b[39mhealth()[\u001b[39m'\u001b[39m\u001b[39mstatus\u001b[39m\u001b[39m'\u001b[39m] \u001b[39m==\u001b[39m \u001b[39m'\u001b[39m\u001b[39mgreen\u001b[39m\u001b[39m'\u001b[39m, \u001b[39m'\u001b[39m\u001b[39mCluster not healthy\u001b[39m\u001b[39m'\u001b[39m\n",
      "\u001b[0;31mAssertionError\u001b[0m: Cluster not healthy"
     ]
    }
   ],
   "source": [
    "from elasticsearch import Elasticsearch\n",
    "\n",
    "# Test Connection \n",
    "client = Elasticsearch(\"http://localhost:9200\")\n",
    "\n",
    "assert client.cluster.health()['status'] == 'green', 'Cluster not healthy'"
   ]
  },
  {
   "cell_type": "markdown",
   "metadata": {},
   "source": [
    "The connection should be established and the cluster health green - which means we're good to go!"
   ]
  },
  {
   "cell_type": "code",
   "execution_count": 2,
   "metadata": {},
   "outputs": [],
   "source": [
    "# Create an index\n",
    "response = client.indices.create(index='my-first-index')\n",
    "\n",
    "assert response['acknowledged'], 'Index could not be created'\n",
    "assert client.indices.exists(index='my-first-index')"
   ]
  },
  {
   "cell_type": "code",
   "execution_count": 3,
   "metadata": {},
   "outputs": [],
   "source": [
    "# Add a sample document\n",
    "client.index(index='my-first-index',id=23,document={\n",
    "    'message': 'Michael Jeffrey Jordan (born February 17, 1963), also known by his initials MJ, is an American businessman and former professional basketball player. He played fifteen seasons in the National Basketball Association (NBA), winning six NBA championships with the Chicago Bulls. Jordan is the principal owner and chairman of the Charlotte Hornets of the NBA and of 23XI Racing in the NASCAR Cup Series. His biography on the official NBA website states: \"By acclamation, Michael Jordan is the greatest basketball player of all time.\" He was integral in popularizing the NBA around the world in the 1980s and 1990s, becoming a global cultural icon in the process.'\n",
    "})\n",
    "assert client.exists(index='my-first-index',id=23)"
   ]
  },
  {
   "cell_type": "markdown",
   "metadata": {},
   "source": [
    "Now we've created an index and indexed one document - not bad, but we're just getting started! Let's try to search our data."
   ]
  },
  {
   "cell_type": "code",
   "execution_count": 4,
   "metadata": {},
   "outputs": [
    {
     "data": {
      "text/plain": [
       "ObjectApiResponse({'took': 6, 'timed_out': False, '_shards': {'total': 1, 'successful': 1, 'skipped': 0, 'failed': 0}, 'hits': {'total': {'value': 1, 'relation': 'eq'}, 'max_score': 0.39767313, 'hits': [{'_index': 'my-first-index', '_id': '23', '_score': 0.39767313, '_ignored': ['message.keyword'], '_source': {'message': 'Michael Jeffrey Jordan (born February 17, 1963), also known by his initials MJ, is an American businessman and former professional basketball player. He played fifteen seasons in the National Basketball Association (NBA), winning six NBA championships with the Chicago Bulls. Jordan is the principal owner and chairman of the Charlotte Hornets of the NBA and of 23XI Racing in the NASCAR Cup Series. His biography on the official NBA website states: \"By acclamation, Michael Jordan is the greatest basketball player of all time.\" He was integral in popularizing the NBA around the world in the 1980s and 1990s, becoming a global cultural icon in the process.'}}]}})"
      ]
     },
     "execution_count": 4,
     "metadata": {},
     "output_type": "execute_result"
    }
   ],
   "source": [
    "client.search(query={\n",
    "    'match': {\n",
    "        'message': 'Michael'\n",
    "    }\n",
    "})"
   ]
  },
  {
   "cell_type": "code",
   "execution_count": 5,
   "metadata": {},
   "outputs": [
    {
     "data": {
      "text/plain": [
       "ObjectApiResponse({'took': 3, 'timed_out': False, '_shards': {'total': 1, 'successful': 1, 'skipped': 0, 'failed': 0}, 'hits': {'total': {'value': 0, 'relation': 'eq'}, 'max_score': None, 'hits': []}})"
      ]
     },
     "execution_count": 5,
     "metadata": {},
     "output_type": "execute_result"
    }
   ],
   "source": [
    "client.search(query={\n",
    "    'match': {\n",
    "        'message': 'GOAT'\n",
    "    }\n",
    "})"
   ]
  },
  {
   "cell_type": "markdown",
   "metadata": {},
   "source": [
    "# Growing the set\n",
    "\n",
    "We can already explore the search API with this minimal example, however we would always end up with one of two result sets (one result or none).\n",
    "\n",
    "To make things more interesting, we should probably accumulate a bit more data. Let's use a small Wikipedia API client to fetch some random articles from Wikipedia and ingest them into Elasticsearch."
   ]
  },
  {
   "cell_type": "code",
   "execution_count": 2,
   "metadata": {},
   "outputs": [
    {
     "ename": "NameError",
     "evalue": "name 'client' is not defined",
     "output_type": "error",
     "traceback": [
      "\u001b[0;31m---------------------------------------------------------------------------\u001b[0m",
      "\u001b[0;31mNameError\u001b[0m                                 Traceback (most recent call last)",
      "\u001b[1;32m/workspace/elasticsearch-demo/demo-notebook.ipynb Cell 4'\u001b[0m in \u001b[0;36m<cell line: 5>\u001b[0;34m()\u001b[0m\n\u001b[1;32m      <a href='vscode-notebook-cell://sypste-elasticsearchdem-khx2lunv4eu.ws-eu47.gitpod.io/workspace/elasticsearch-demo/demo-notebook.ipynb#ch0000003vscode-remote?line=4'>5</a>\u001b[0m \u001b[39mfor\u001b[39;00m _id \u001b[39min\u001b[39;00m pages:\n\u001b[1;32m      <a href='vscode-notebook-cell://sypste-elasticsearchdem-khx2lunv4eu.ws-eu47.gitpod.io/workspace/elasticsearch-demo/demo-notebook.ipynb#ch0000003vscode-remote?line=5'>6</a>\u001b[0m     page \u001b[39m=\u001b[39m wikipedia\u001b[39m.\u001b[39mpage(_id)\n\u001b[0;32m----> <a href='vscode-notebook-cell://sypste-elasticsearchdem-khx2lunv4eu.ws-eu47.gitpod.io/workspace/elasticsearch-demo/demo-notebook.ipynb#ch0000003vscode-remote?line=6'>7</a>\u001b[0m     client\u001b[39m.\u001b[39mindex(\n\u001b[1;32m      <a href='vscode-notebook-cell://sypste-elasticsearchdem-khx2lunv4eu.ws-eu47.gitpod.io/workspace/elasticsearch-demo/demo-notebook.ipynb#ch0000003vscode-remote?line=7'>8</a>\u001b[0m         index\u001b[39m=\u001b[39m\u001b[39m'\u001b[39m\u001b[39mmy-second-index\u001b[39m\u001b[39m'\u001b[39m,\n\u001b[1;32m      <a href='vscode-notebook-cell://sypste-elasticsearchdem-khx2lunv4eu.ws-eu47.gitpod.io/workspace/elasticsearch-demo/demo-notebook.ipynb#ch0000003vscode-remote?line=8'>9</a>\u001b[0m         document\u001b[39m=\u001b[39m{\n\u001b[1;32m     <a href='vscode-notebook-cell://sypste-elasticsearchdem-khx2lunv4eu.ws-eu47.gitpod.io/workspace/elasticsearch-demo/demo-notebook.ipynb#ch0000003vscode-remote?line=9'>10</a>\u001b[0m             \u001b[39m'\u001b[39m\u001b[39murl\u001b[39m\u001b[39m'\u001b[39m: page\u001b[39m.\u001b[39murl,\n\u001b[1;32m     <a href='vscode-notebook-cell://sypste-elasticsearchdem-khx2lunv4eu.ws-eu47.gitpod.io/workspace/elasticsearch-demo/demo-notebook.ipynb#ch0000003vscode-remote?line=10'>11</a>\u001b[0m             \u001b[39m'\u001b[39m\u001b[39mtitle\u001b[39m\u001b[39m'\u001b[39m: page\u001b[39m.\u001b[39mtitle,\n\u001b[1;32m     <a href='vscode-notebook-cell://sypste-elasticsearchdem-khx2lunv4eu.ws-eu47.gitpod.io/workspace/elasticsearch-demo/demo-notebook.ipynb#ch0000003vscode-remote?line=11'>12</a>\u001b[0m             \u001b[39m'\u001b[39m\u001b[39msummary\u001b[39m\u001b[39m'\u001b[39m: page\u001b[39m.\u001b[39msummary,\n\u001b[1;32m     <a href='vscode-notebook-cell://sypste-elasticsearchdem-khx2lunv4eu.ws-eu47.gitpod.io/workspace/elasticsearch-demo/demo-notebook.ipynb#ch0000003vscode-remote?line=12'>13</a>\u001b[0m             \u001b[39m'\u001b[39m\u001b[39mcontent\u001b[39m\u001b[39m'\u001b[39m: page\u001b[39m.\u001b[39mcontent,\n\u001b[1;32m     <a href='vscode-notebook-cell://sypste-elasticsearchdem-khx2lunv4eu.ws-eu47.gitpod.io/workspace/elasticsearch-demo/demo-notebook.ipynb#ch0000003vscode-remote?line=13'>14</a>\u001b[0m             \u001b[39m'\u001b[39m\u001b[39mlinks\u001b[39m\u001b[39m'\u001b[39m: page\u001b[39m.\u001b[39mlinks,\n\u001b[1;32m     <a href='vscode-notebook-cell://sypste-elasticsearchdem-khx2lunv4eu.ws-eu47.gitpod.io/workspace/elasticsearch-demo/demo-notebook.ipynb#ch0000003vscode-remote?line=14'>15</a>\u001b[0m         }\n\u001b[1;32m     <a href='vscode-notebook-cell://sypste-elasticsearchdem-khx2lunv4eu.ws-eu47.gitpod.io/workspace/elasticsearch-demo/demo-notebook.ipynb#ch0000003vscode-remote?line=15'>16</a>\u001b[0m     )\n",
      "\u001b[0;31mNameError\u001b[0m: name 'client' is not defined"
     ]
    }
   ],
   "source": [
    "import wikipedia\n",
    "\n",
    "pages = wikipedia.random(pages=10)\n",
    "\n",
    "for _id in pages:\n",
    "    page = wikipedia.page(_id)\n",
    "    client.index(\n",
    "        index='my-second-index',\n",
    "        document={\n",
    "            'url': page.url,\n",
    "            'title': page.title,\n",
    "            'summary': page.summary,\n",
    "            'content': page.content,\n",
    "            'links': page.links,\n",
    "        }\n",
    "    )"
   ]
  },
  {
   "cell_type": "code",
   "execution_count": 7,
   "metadata": {},
   "outputs": [
    {
     "data": {
      "text/plain": [
       "ObjectApiResponse({'count': 10, '_shards': {'total': 1, 'successful': 1, 'skipped': 0, 'failed': 0}})"
      ]
     },
     "execution_count": 7,
     "metadata": {},
     "output_type": "execute_result"
    }
   ],
   "source": [
    "client.count(index='my-second-index')"
   ]
  },
  {
   "cell_type": "code",
   "execution_count": 12,
   "metadata": {},
   "outputs": [
    {
     "data": {
      "text/plain": [
       "1000"
      ]
     },
     "execution_count": 12,
     "metadata": {},
     "output_type": "execute_result"
    }
   ],
   "source": [
    "import os\n",
    "len(os.listdir('./_articles/'))"
   ]
  }
 ],
 "metadata": {
  "interpreter": {
   "hash": "110cc1dee26208153f2972f08a2ad52b6a56238dc66d48e87fb757ef2996db56"
  },
  "kernelspec": {
   "display_name": "Python 3.8.13 64-bit ('3.8.13')",
   "language": "python",
   "name": "python3"
  },
  "language_info": {
   "codemirror_mode": {
    "name": "ipython",
    "version": 3
   },
   "file_extension": ".py",
   "mimetype": "text/x-python",
   "name": "python",
   "nbconvert_exporter": "python",
   "pygments_lexer": "ipython3",
   "version": "3.8.13"
  },
  "orig_nbformat": 4
 },
 "nbformat": 4,
 "nbformat_minor": 2
}
