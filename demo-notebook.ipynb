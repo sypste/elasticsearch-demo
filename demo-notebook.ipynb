{
 "cells": [
  {
   "cell_type": "markdown",
   "metadata": {},
   "source": [
    "# Setup\n",
    "\n",
    "Before we start developing with Elasticsearch, let's make sure we can \n",
    "\n",
    "- connect to the cluster\n",
    "- index some data\n",
    "- and perform a query on the index"
   ]
  },
  {
   "cell_type": "code",
   "execution_count": null,
   "metadata": {},
   "outputs": [],
   "source": [
    "from elasticsearch import Elasticsearch\n",
    "\n",
    "# Test Connection \n",
    "client = Elasticsearch(\"http://localhost:9200\")\n",
    "\n",
    "assert client.cluster.health()['status'] == 'green', 'Cluster not healthy'"
   ]
  },
  {
   "cell_type": "markdown",
   "metadata": {},
   "source": [
    "The connection should be established and the cluster health green - which means we're good to go!"
   ]
  },
  {
   "cell_type": "code",
   "execution_count": null,
   "metadata": {},
   "outputs": [],
   "source": [
    "# Create an index\n",
    "response = client.indices.create(index='my-first-index')\n",
    "\n",
    "assert response['acknowledged'], 'Index could not be created'\n",
    "assert client.indices.exists(index='my-first-index')"
   ]
  },
  {
   "cell_type": "code",
   "execution_count": null,
   "metadata": {},
   "outputs": [],
   "source": [
    "# Add a sample document\n",
    "client.index(index='my-first-index',id=23,document={\n",
    "    'message': 'Michael Jeffrey Jordan (born February 17, 1963), also known by his initials MJ, is an American businessman and former professional basketball player. He played fifteen seasons in the National Basketball Association (NBA), winning six NBA championships with the Chicago Bulls. Jordan is the principal owner and chairman of the Charlotte Hornets of the NBA and of 23XI Racing in the NASCAR Cup Series. His biography on the official NBA website states: \"By acclamation, Michael Jordan is the greatest basketball player of all time.\" He was integral in popularizing the NBA around the world in the 1980s and 1990s, becoming a global cultural icon in the process.'\n",
    "})\n",
    "assert client.exists(index='my-first-index',id=23)"
   ]
  },
  {
   "cell_type": "markdown",
   "metadata": {},
   "source": [
    "Now we've created an index and indexed one document - not bad, but we're just getting started! Let's try to search our data."
   ]
  },
  {
   "cell_type": "code",
   "execution_count": null,
   "metadata": {},
   "outputs": [],
   "source": [
    "client.search(query={\n",
    "    'match': {\n",
    "        'message': 'Michael'\n",
    "    }\n",
    "})"
   ]
  },
  {
   "cell_type": "code",
   "execution_count": null,
   "metadata": {},
   "outputs": [],
   "source": [
    "client.search(query={\n",
    "    'match': {\n",
    "        'message': 'GOAT'\n",
    "    }\n",
    "})"
   ]
  },
  {
   "cell_type": "markdown",
   "metadata": {},
   "source": [
    "We can already explore the search API with this minimal example, however we would always end up with one of two result sets (one result or none).\n",
    "\n",
    "To make things more interesting, we should probably accumulate a bit more data. Let's use a small Wikipedia API client to fetch some random articles from Wikipedia and ingest them into Elasticsearch."
   ]
  },
  {
   "cell_type": "code",
   "execution_count": 101,
   "metadata": {},
   "outputs": [],
   "source": [
    "import wikipedia\n",
    "\n",
    "pages = wikipedia.random(pages=10)\n",
    "\n",
    "for _id in pages:\n",
    "    page = wikipedia.page(_id)\n",
    "    client.index(\n",
    "        index='my-second-index',\n",
    "        document={\n",
    "            'url': page.url,\n",
    "            'title': page.title,\n",
    "            'summary': page.summary,\n",
    "            'content': page.content,\n",
    "            'links': page.links,\n",
    "        }\n",
    "    )"
   ]
  },
  {
   "cell_type": "code",
   "execution_count": 103,
   "metadata": {},
   "outputs": [
    {
     "data": {
      "text/plain": [
       "ObjectApiResponse({'count': 38, '_shards': {'total': 1, 'successful': 1, 'skipped': 0, 'failed': 0}})"
      ]
     },
     "execution_count": 103,
     "metadata": {},
     "output_type": "execute_result"
    }
   ],
   "source": [
    "client.count(index='my-second-index')"
   ]
  },
  {
   "cell_type": "code",
   "execution_count": null,
   "metadata": {},
   "outputs": [],
   "source": []
  }
 ],
 "metadata": {
  "interpreter": {
   "hash": "110cc1dee26208153f2972f08a2ad52b6a56238dc66d48e87fb757ef2996db56"
  },
  "kernelspec": {
   "display_name": "Python 3.8.13 64-bit ('3.8.13')",
   "language": "python",
   "name": "python3"
  },
  "language_info": {
   "codemirror_mode": {
    "name": "ipython",
    "version": 3
   },
   "file_extension": ".py",
   "mimetype": "text/x-python",
   "name": "python",
   "nbconvert_exporter": "python",
   "pygments_lexer": "ipython3",
   "version": "3.8.13"
  },
  "orig_nbformat": 4
 },
 "nbformat": 4,
 "nbformat_minor": 2
}
